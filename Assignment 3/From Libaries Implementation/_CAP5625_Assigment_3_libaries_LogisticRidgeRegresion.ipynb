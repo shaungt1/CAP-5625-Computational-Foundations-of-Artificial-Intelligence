{
  "nbformat": 4,
  "nbformat_minor": 0,
  "metadata": {
    "interpreter": {
      "hash": "b3ba2566441a7c06988d0923437866b63cedc61552a5af99d1f4fb67d367b25f"
    },
    "kernelspec": {
      "display_name": "Python 3.8.8 64-bit ('base': conda)",
      "name": "python3"
    },
    "language_info": {
      "codemirror_mode": {
        "name": "ipython",
        "version": 3
      },
      "file_extension": ".py",
      "mimetype": "text/x-python",
      "name": "python",
      "nbconvert_exporter": "python",
      "pygments_lexer": "ipython3",
      "version": "3.8.8"
    },
    "orig_nbformat": 4,
    "colab": {
      "name": "***CAP5625_Assigment 3-libaries_LogisticRidgeRegresion.ipynb",
      "provenance": []
    }
  },
  "cells": [
    {
      "cell_type": "markdown",
      "metadata": {
        "id": "dmmvuIksue4c"
      },
      "source": [
        "- **Programmer:**\n",
        "    - **Shaun Pritchard**\n",
        "    - **Ismael A Lopez** \n",
        "\n",
        "## **Assigment 3**\n",
        "**Brief overview of assignment**\n",
        "\n",
        "***perform a penalized\n",
        "(regularized) logistic (multinomial) regression fit using ridge regression, with the model\n",
        "parameters obtained by batch gradient descent. Your predictions will be based on K=5\n",
        "continental ancestries (African, European, East Asian, Oceanian, or Native American). Ridge\n",
        "regression will permit you to provide parameter shrinkage (tuning parameter 𝜆=0) to mitigate\n",
        "overfitting. The tuning parameter 𝜆 will be chosen using five-fold cross validation, and the best-\n",
        "fit model parameters will be inferred on the training dataset conditional on an optimal tuning\n",
        "parameter. This trained model will be used to make predictions on new test data points***"
      ]
    },
    {
      "cell_type": "markdown",
      "metadata": {
        "id": "fZ2NSNZaue4h"
      },
      "source": [
        "> ***Table of Contents***\n",
        "<hr>\n",
        "\n",
        "\n",
        "* [Import Packages](#Import_Packages)\n",
        "    * [Import packages for manipulating data](#Import_packages_for_manipulating_data)\n",
        "    * [Import packages for splitting data](#Import_packages_for_splitting_data)\n",
        "    * [Import packages for modeling data](#Import_packages_for_modeling_data)\n",
        "    * [Import packages for Scaling and Centering data](#Import_packages_for_Scaling_and_Centering_data)\n",
        "    * [Import packages for Measuring Model Perormance](#Import_packages_for_Measuring_Model_Perormance)\n",
        "    \n",
        "* [Data Processing](#Data_Processing)\n",
        "    * [Import Data](#Import_data)\n",
        "    * [Lets change the categorical values](#Lets_change_the_categorical_values)\n",
        "    * [Create Predictor and Target numpy array](#Create_Predictor_and_Target_numpy_array)\n",
        "    * [Create a Normalize copy of variables](#Create_a_Normalize_copy_of_variables)\n",
        "    * [Split Data](#Split_Data:)\n",
        "* [Regression Model](#Regression_Model)\n",
        "    * [Define our learning rates:](#Define_our_learning_rates)\n",
        "    * [Create the Regression Objects](#Create_the_Regression_Objects)\n",
        "        * [LogisticRegression Library](#LogisticRegression_Library)\n",
        "\n"
      ]
    },
    {
      "cell_type": "markdown",
      "metadata": {
        "id": "QAiw7MS9ue4j"
      },
      "source": [
        "> ***Deliverables***\n",
        "<hr>\n",
        "\n",
        "* [**Deliverable 6.1**](#Deliverable_6.1)\n",
        "* [**Deliverable 6.2**](#Deliverable_6.2)\n",
        "* [**Deliverable 6.3**](#Deliverable_6.3)\n",
        "* [**Deliverable 6.4**](#Deliverable_6.4)\n",
        "* [**Deliverable 6. Reason for difference**](#Deliverable_6_Reason_for_difference)"
      ]
    },
    {
      "cell_type": "markdown",
      "metadata": {
        "id": "2qUFlnh1ue4j"
      },
      "source": [
        "# Import Packages <a class=\"anchor\" id=\"Import_Packages\"></a>"
      ]
    },
    {
      "cell_type": "markdown",
      "metadata": {
        "id": "PB-AwZVDue4k"
      },
      "source": [
        "### Import packages for manipulating data  <a class=\"anchor\" id=\"Import_packages_for_manipulating_data\"></a>"
      ]
    },
    {
      "cell_type": "code",
      "metadata": {
        "id": "6cDGv8Khue4k"
      },
      "source": [
        "import numpy as np\n",
        "import pandas as pd\n",
        "import matplotlib.pyplot as plt\n",
        "import matplotlib as mpl\n",
        "import matplotlib.mlab as mlab\n",
        "import math\n",
        "import csv\n",
        "import random\n",
        "%matplotlib inline\n",
        "from sklearn.preprocessing import LabelEncoder\n",
        "import seaborn as sns\n",
        "import math\n"
      ],
      "execution_count": 1,
      "outputs": []
    },
    {
      "cell_type": "markdown",
      "metadata": {
        "id": "X0gW1nTsue4m"
      },
      "source": [
        "### Import packages for splitting data  <a class=\"anchor\" id=\"Import_packages_for_splitting_data\"></a>"
      ]
    },
    {
      "cell_type": "code",
      "metadata": {
        "id": "hjWloQNnue4n"
      },
      "source": [
        "from sklearn.model_selection import train_test_split, cross_val_score, KFold, StratifiedKFold\n",
        "from sklearn.model_selection import GridSearchCV\n"
      ],
      "execution_count": 2,
      "outputs": []
    },
    {
      "cell_type": "markdown",
      "metadata": {
        "id": "Tqgw1bVFue4n"
      },
      "source": [
        "### Import packages for modeling data  <a class=\"anchor\" id=\"Import_packages_for_modeling_data\"></a>"
      ]
    },
    {
      "cell_type": "code",
      "metadata": {
        "id": "FvZMHjvmue4o"
      },
      "source": [
        "# Import models:\n",
        "from sklearn.preprocessing import PolynomialFeatures\n",
        "from sklearn.linear_model import LinearRegression as linearR_Model, Ridge  as RidgeR_Model\n",
        "from sklearn.linear_model import RidgeCV\n",
        "\n",
        "from sklearn.linear_model import ElasticNet\n",
        "from sklearn.linear_model import ElasticNetCV\n",
        "\n",
        "from sklearn.linear_model import LogisticRegression\n",
        "\n",
        "\n",
        "from sklearn.exceptions import ConvergenceWarning\n",
        "#from sklearn.utils._testing import ignore_warnings\n",
        "import warnings\n",
        "warnings.filterwarnings('ignore', category=ConvergenceWarning) # To filter out the Convergence warning\n",
        "warnings.filterwarnings('ignore', category=UserWarning)\n",
        "from itertools import product\n"
      ],
      "execution_count": 3,
      "outputs": []
    },
    {
      "cell_type": "markdown",
      "metadata": {
        "id": "Ee6QUGCSue4p"
      },
      "source": [
        "### Import packages for Scaling and Centering data  <a class=\"anchor\" id=\"Import_packages_for_Scaling_and_Centering_data\"></a>"
      ]
    },
    {
      "cell_type": "code",
      "metadata": {
        "id": "ZZ3nOXd8ue4p"
      },
      "source": [
        "from sklearn.preprocessing import StandardScaler"
      ],
      "execution_count": 4,
      "outputs": []
    },
    {
      "cell_type": "markdown",
      "metadata": {
        "id": "awr1dcfxue4p"
      },
      "source": [
        "### Import packages for Measuring Model Perormance  <a class=\"anchor\" id=\"Import_packages_for_Measuring_Model_Perormance\"></a>"
      ]
    },
    {
      "cell_type": "code",
      "metadata": {
        "id": "IO-wwpPMue4q"
      },
      "source": [
        "from sklearn.metrics import mean_squared_error\n",
        "from sklearn.metrics import r2_score\n",
        "from sklearn.metrics import make_scorer"
      ],
      "execution_count": 5,
      "outputs": []
    },
    {
      "cell_type": "markdown",
      "metadata": {
        "id": "3owCV2k0ue4q"
      },
      "source": [
        "# Data Processing <a class=\"anchor\" id=\"Data_Processing\"></a>"
      ]
    },
    {
      "cell_type": "markdown",
      "metadata": {
        "id": "SfaotWjJue4q"
      },
      "source": [
        "### Import Data  <a class=\"anchor\" id=\"Import_data\"></a>"
      ]
    },
    {
      "cell_type": "markdown",
      "metadata": {
        "id": "x86tPdyCue4r"
      },
      "source": [
        "***Traing Dataset***"
      ]
    },
    {
      "cell_type": "code",
      "metadata": {
        "colab": {
          "base_uri": "https://localhost:8080/",
          "height": 144
        },
        "id": "Pd6-H6lfue4r",
        "outputId": "9a4c562d-f7dd-4df4-a1e0-a2548d9d90a8"
      },
      "source": [
        "Train_dataset = pd.read_csv ('TrainingData_N183_p10.csv')\n",
        "Train_dataset.head(3)"
      ],
      "execution_count": 6,
      "outputs": [
        {
          "output_type": "execute_result",
          "data": {
            "text/html": [
              "<div>\n",
              "<style scoped>\n",
              "    .dataframe tbody tr th:only-of-type {\n",
              "        vertical-align: middle;\n",
              "    }\n",
              "\n",
              "    .dataframe tbody tr th {\n",
              "        vertical-align: top;\n",
              "    }\n",
              "\n",
              "    .dataframe thead th {\n",
              "        text-align: right;\n",
              "    }\n",
              "</style>\n",
              "<table border=\"1\" class=\"dataframe\">\n",
              "  <thead>\n",
              "    <tr style=\"text-align: right;\">\n",
              "      <th></th>\n",
              "      <th>PC1</th>\n",
              "      <th>PC2</th>\n",
              "      <th>PC3</th>\n",
              "      <th>PC4</th>\n",
              "      <th>PC5</th>\n",
              "      <th>PC6</th>\n",
              "      <th>PC7</th>\n",
              "      <th>PC8</th>\n",
              "      <th>PC9</th>\n",
              "      <th>PC10</th>\n",
              "      <th>Ancestry</th>\n",
              "    </tr>\n",
              "  </thead>\n",
              "  <tbody>\n",
              "    <tr>\n",
              "      <th>0</th>\n",
              "      <td>-10.901171</td>\n",
              "      <td>0.798743</td>\n",
              "      <td>-1.143301</td>\n",
              "      <td>-1.070960</td>\n",
              "      <td>11.856396</td>\n",
              "      <td>-2.265965</td>\n",
              "      <td>4.536405</td>\n",
              "      <td>1.519959</td>\n",
              "      <td>-2.214294</td>\n",
              "      <td>-0.671274</td>\n",
              "      <td>African</td>\n",
              "    </tr>\n",
              "    <tr>\n",
              "      <th>1</th>\n",
              "      <td>-9.990054</td>\n",
              "      <td>1.416821</td>\n",
              "      <td>-0.729626</td>\n",
              "      <td>-0.443621</td>\n",
              "      <td>10.418594</td>\n",
              "      <td>0.443514</td>\n",
              "      <td>2.640659</td>\n",
              "      <td>-4.637746</td>\n",
              "      <td>3.351629</td>\n",
              "      <td>-0.671274</td>\n",
              "      <td>African</td>\n",
              "    </tr>\n",
              "    <tr>\n",
              "      <th>2</th>\n",
              "      <td>-9.345388</td>\n",
              "      <td>2.913054</td>\n",
              "      <td>-0.921421</td>\n",
              "      <td>0.029173</td>\n",
              "      <td>10.672615</td>\n",
              "      <td>-2.052552</td>\n",
              "      <td>5.140476</td>\n",
              "      <td>-1.451096</td>\n",
              "      <td>0.444183</td>\n",
              "      <td>-0.671274</td>\n",
              "      <td>African</td>\n",
              "    </tr>\n",
              "  </tbody>\n",
              "</table>\n",
              "</div>"
            ],
            "text/plain": [
              "         PC1       PC2       PC3  ...       PC9      PC10  Ancestry\n",
              "0 -10.901171  0.798743 -1.143301  ... -2.214294 -0.671274   African\n",
              "1  -9.990054  1.416821 -0.729626  ...  3.351629 -0.671274   African\n",
              "2  -9.345388  2.913054 -0.921421  ...  0.444183 -0.671274   African\n",
              "\n",
              "[3 rows x 11 columns]"
            ]
          },
          "metadata": {},
          "execution_count": 6
        }
      ]
    },
    {
      "cell_type": "code",
      "metadata": {
        "colab": {
          "base_uri": "https://localhost:8080/",
          "height": 0
        },
        "id": "csjaBU1Cue4s",
        "outputId": "6315056e-792c-49c7-9c5c-76d3c0346bed"
      },
      "source": [
        "# What are the datatypes of each observation:\n",
        "print(Train_dataset.dtypes)\n",
        "# Shape of my data\n",
        "print('The size of our data are: ',Train_dataset.shape)"
      ],
      "execution_count": 7,
      "outputs": [
        {
          "output_type": "stream",
          "name": "stdout",
          "text": [
            "PC1         float64\n",
            "PC2         float64\n",
            "PC3         float64\n",
            "PC4         float64\n",
            "PC5         float64\n",
            "PC6         float64\n",
            "PC7         float64\n",
            "PC8         float64\n",
            "PC9         float64\n",
            "PC10        float64\n",
            "Ancestry     object\n",
            "dtype: object\n",
            "The size of our data are:  (183, 11)\n"
          ]
        }
      ]
    },
    {
      "cell_type": "code",
      "metadata": {
        "colab": {
          "base_uri": "https://localhost:8080/",
          "height": 0
        },
        "id": "DLVGuKQ5ue4s",
        "outputId": "f016833e-31d1-48f2-cdc4-3ef2fa9ba841"
      },
      "source": [
        "print('Training Dataset Missing Values: \\n',Train_dataset.isnull().sum())\n"
      ],
      "execution_count": 8,
      "outputs": [
        {
          "output_type": "stream",
          "name": "stdout",
          "text": [
            "Training Dataset Missing Values: \n",
            " PC1         0\n",
            "PC2         0\n",
            "PC3         0\n",
            "PC4         0\n",
            "PC5         0\n",
            "PC6         0\n",
            "PC7         0\n",
            "PC8         0\n",
            "PC9         0\n",
            "PC10        0\n",
            "Ancestry    0\n",
            "dtype: int64\n"
          ]
        }
      ]
    },
    {
      "cell_type": "markdown",
      "metadata": {
        "id": "Te0ntT70ue4s"
      },
      "source": [
        "***Test Dataset***"
      ]
    },
    {
      "cell_type": "code",
      "metadata": {
        "colab": {
          "base_uri": "https://localhost:8080/",
          "height": 144
        },
        "id": "mi1k5xQYue4t",
        "outputId": "f3301882-4e58-4b32-fdc1-1a59bfcde48e"
      },
      "source": [
        "Test_dataset = pd.read_csv ('TestData_N111_p10.csv')\n",
        "Test_dataset.head(3)"
      ],
      "execution_count": 9,
      "outputs": [
        {
          "output_type": "execute_result",
          "data": {
            "text/html": [
              "<div>\n",
              "<style scoped>\n",
              "    .dataframe tbody tr th:only-of-type {\n",
              "        vertical-align: middle;\n",
              "    }\n",
              "\n",
              "    .dataframe tbody tr th {\n",
              "        vertical-align: top;\n",
              "    }\n",
              "\n",
              "    .dataframe thead th {\n",
              "        text-align: right;\n",
              "    }\n",
              "</style>\n",
              "<table border=\"1\" class=\"dataframe\">\n",
              "  <thead>\n",
              "    <tr style=\"text-align: right;\">\n",
              "      <th></th>\n",
              "      <th>PC1</th>\n",
              "      <th>PC2</th>\n",
              "      <th>PC3</th>\n",
              "      <th>PC4</th>\n",
              "      <th>PC5</th>\n",
              "      <th>PC6</th>\n",
              "      <th>PC7</th>\n",
              "      <th>PC8</th>\n",
              "      <th>PC9</th>\n",
              "      <th>PC10</th>\n",
              "      <th>Ancestry</th>\n",
              "    </tr>\n",
              "  </thead>\n",
              "  <tbody>\n",
              "    <tr>\n",
              "      <th>0</th>\n",
              "      <td>2.517683</td>\n",
              "      <td>5.464283</td>\n",
              "      <td>9.067873</td>\n",
              "      <td>-4.965928</td>\n",
              "      <td>-0.741937</td>\n",
              "      <td>0.039785</td>\n",
              "      <td>0.573279</td>\n",
              "      <td>-0.216918</td>\n",
              "      <td>2.454823</td>\n",
              "      <td>-0.671274</td>\n",
              "      <td>Unknown</td>\n",
              "    </tr>\n",
              "    <tr>\n",
              "      <th>1</th>\n",
              "      <td>6.077012</td>\n",
              "      <td>1.032867</td>\n",
              "      <td>-5.795883</td>\n",
              "      <td>-3.490064</td>\n",
              "      <td>-0.600204</td>\n",
              "      <td>-0.120803</td>\n",
              "      <td>1.243767</td>\n",
              "      <td>1.821390</td>\n",
              "      <td>-1.173053</td>\n",
              "      <td>2.442467</td>\n",
              "      <td>Unknown</td>\n",
              "    </tr>\n",
              "    <tr>\n",
              "      <th>2</th>\n",
              "      <td>1.016945</td>\n",
              "      <td>-2.913299</td>\n",
              "      <td>0.907702</td>\n",
              "      <td>1.233580</td>\n",
              "      <td>-1.983452</td>\n",
              "      <td>1.605964</td>\n",
              "      <td>2.674998</td>\n",
              "      <td>-0.732921</td>\n",
              "      <td>-2.157438</td>\n",
              "      <td>-0.671274</td>\n",
              "      <td>Unknown</td>\n",
              "    </tr>\n",
              "  </tbody>\n",
              "</table>\n",
              "</div>"
            ],
            "text/plain": [
              "        PC1       PC2       PC3  ...       PC9      PC10  Ancestry\n",
              "0  2.517683  5.464283  9.067873  ...  2.454823 -0.671274   Unknown\n",
              "1  6.077012  1.032867 -5.795883  ... -1.173053  2.442467   Unknown\n",
              "2  1.016945 -2.913299  0.907702  ... -2.157438 -0.671274   Unknown\n",
              "\n",
              "[3 rows x 11 columns]"
            ]
          },
          "metadata": {},
          "execution_count": 9
        }
      ]
    },
    {
      "cell_type": "code",
      "metadata": {
        "colab": {
          "base_uri": "https://localhost:8080/",
          "height": 0
        },
        "id": "C3aqSdNLue4t",
        "outputId": "0fdb0452-1db6-4a23-9ffa-dd3d9956dcfc"
      },
      "source": [
        "# What are the datatypes of each observation:\n",
        "print(Test_dataset.dtypes)\n",
        "# Shape of my data\n",
        "print('The size of our data are: ',Test_dataset.shape)"
      ],
      "execution_count": 10,
      "outputs": [
        {
          "output_type": "stream",
          "name": "stdout",
          "text": [
            "PC1         float64\n",
            "PC2         float64\n",
            "PC3         float64\n",
            "PC4         float64\n",
            "PC5         float64\n",
            "PC6         float64\n",
            "PC7         float64\n",
            "PC8         float64\n",
            "PC9         float64\n",
            "PC10        float64\n",
            "Ancestry     object\n",
            "dtype: object\n",
            "The size of our data are:  (111, 11)\n"
          ]
        }
      ]
    },
    {
      "cell_type": "code",
      "metadata": {
        "colab": {
          "base_uri": "https://localhost:8080/",
          "height": 0
        },
        "id": "L207lbaiue4t",
        "outputId": "345b2589-b1c5-4b10-ae21-3dd0000b6fbc"
      },
      "source": [
        "# Are there any null or missing values\n",
        "print('Test Dataset Missing Values: \\n',Test_dataset.isnull().sum())"
      ],
      "execution_count": 11,
      "outputs": [
        {
          "output_type": "stream",
          "name": "stdout",
          "text": [
            "Test Dataset Missing Values: \n",
            " PC1         0\n",
            "PC2         0\n",
            "PC3         0\n",
            "PC4         0\n",
            "PC5         0\n",
            "PC6         0\n",
            "PC7         0\n",
            "PC8         0\n",
            "PC9         0\n",
            "PC10        0\n",
            "Ancestry    0\n",
            "dtype: int64\n"
          ]
        }
      ]
    },
    {
      "cell_type": "markdown",
      "metadata": {
        "id": "QuHKDRLUue4u"
      },
      "source": [
        "### Lets change the categorical values  <a class=\"anchor\" id=\"Lets_change_the_categorical_values\"></a>\n"
      ]
    },
    {
      "cell_type": "code",
      "metadata": {
        "colab": {
          "base_uri": "https://localhost:8080/",
          "height": 0
        },
        "id": "sd7nJVOHue4u",
        "outputId": "c4b397ba-3946-434b-f73e-ab9adfe17032"
      },
      "source": [
        "# recode the categories\n",
        "Training_Class = Train_dataset['Ancestry'].unique().tolist()\n",
        "Test_Class = Test_dataset['Ancestry'].unique().tolist()\n",
        "num_features = len(Training_Class)\n",
        "\n",
        "\n",
        "print(\"Unique Values for Train Ancestry: \", Training_Class)\n",
        "print(\"Unique Values for Test Ancestry: \", Test_Class)\n"
      ],
      "execution_count": 12,
      "outputs": [
        {
          "output_type": "stream",
          "name": "stdout",
          "text": [
            "Unique Values for Train Ancestry:  ['African', 'European', 'EastAsian', 'Oceanian', 'NativeAmerican']\n",
            "Unique Values for Test Ancestry:  ['Unknown', 'Mexican', 'AfricanAmerican']\n"
          ]
        }
      ]
    },
    {
      "cell_type": "code",
      "metadata": {
        "id": "CIIc0esJue4u"
      },
      "source": [
        "from sklearn.preprocessing import LabelEncoder\n",
        "le = LabelEncoder()\n",
        "Train_dataset['Ancestry_Encoded'] = le.fit_transform(Train_dataset.iloc[:,-1:])\n",
        "Test_dataset['Ancestry_Encoded'] = le.fit_transform(Test_dataset.iloc[:,-1:])"
      ],
      "execution_count": 13,
      "outputs": []
    },
    {
      "cell_type": "code",
      "metadata": {
        "colab": {
          "base_uri": "https://localhost:8080/",
          "height": 144
        },
        "id": "_CjuIej-ue4u",
        "outputId": "8018312d-1283-4d9a-866a-8dfeeec2f00c"
      },
      "source": [
        "Train_dataset.head(3)"
      ],
      "execution_count": 14,
      "outputs": [
        {
          "output_type": "execute_result",
          "data": {
            "text/html": [
              "<div>\n",
              "<style scoped>\n",
              "    .dataframe tbody tr th:only-of-type {\n",
              "        vertical-align: middle;\n",
              "    }\n",
              "\n",
              "    .dataframe tbody tr th {\n",
              "        vertical-align: top;\n",
              "    }\n",
              "\n",
              "    .dataframe thead th {\n",
              "        text-align: right;\n",
              "    }\n",
              "</style>\n",
              "<table border=\"1\" class=\"dataframe\">\n",
              "  <thead>\n",
              "    <tr style=\"text-align: right;\">\n",
              "      <th></th>\n",
              "      <th>PC1</th>\n",
              "      <th>PC2</th>\n",
              "      <th>PC3</th>\n",
              "      <th>PC4</th>\n",
              "      <th>PC5</th>\n",
              "      <th>PC6</th>\n",
              "      <th>PC7</th>\n",
              "      <th>PC8</th>\n",
              "      <th>PC9</th>\n",
              "      <th>PC10</th>\n",
              "      <th>Ancestry</th>\n",
              "      <th>Ancestry_Encoded</th>\n",
              "    </tr>\n",
              "  </thead>\n",
              "  <tbody>\n",
              "    <tr>\n",
              "      <th>0</th>\n",
              "      <td>-10.901171</td>\n",
              "      <td>0.798743</td>\n",
              "      <td>-1.143301</td>\n",
              "      <td>-1.070960</td>\n",
              "      <td>11.856396</td>\n",
              "      <td>-2.265965</td>\n",
              "      <td>4.536405</td>\n",
              "      <td>1.519959</td>\n",
              "      <td>-2.214294</td>\n",
              "      <td>-0.671274</td>\n",
              "      <td>African</td>\n",
              "      <td>0</td>\n",
              "    </tr>\n",
              "    <tr>\n",
              "      <th>1</th>\n",
              "      <td>-9.990054</td>\n",
              "      <td>1.416821</td>\n",
              "      <td>-0.729626</td>\n",
              "      <td>-0.443621</td>\n",
              "      <td>10.418594</td>\n",
              "      <td>0.443514</td>\n",
              "      <td>2.640659</td>\n",
              "      <td>-4.637746</td>\n",
              "      <td>3.351629</td>\n",
              "      <td>-0.671274</td>\n",
              "      <td>African</td>\n",
              "      <td>0</td>\n",
              "    </tr>\n",
              "    <tr>\n",
              "      <th>2</th>\n",
              "      <td>-9.345388</td>\n",
              "      <td>2.913054</td>\n",
              "      <td>-0.921421</td>\n",
              "      <td>0.029173</td>\n",
              "      <td>10.672615</td>\n",
              "      <td>-2.052552</td>\n",
              "      <td>5.140476</td>\n",
              "      <td>-1.451096</td>\n",
              "      <td>0.444183</td>\n",
              "      <td>-0.671274</td>\n",
              "      <td>African</td>\n",
              "      <td>0</td>\n",
              "    </tr>\n",
              "  </tbody>\n",
              "</table>\n",
              "</div>"
            ],
            "text/plain": [
              "         PC1       PC2       PC3  ...      PC10  Ancestry  Ancestry_Encoded\n",
              "0 -10.901171  0.798743 -1.143301  ... -0.671274   African                 0\n",
              "1  -9.990054  1.416821 -0.729626  ... -0.671274   African                 0\n",
              "2  -9.345388  2.913054 -0.921421  ... -0.671274   African                 0\n",
              "\n",
              "[3 rows x 12 columns]"
            ]
          },
          "metadata": {},
          "execution_count": 14
        }
      ]
    },
    {
      "cell_type": "markdown",
      "metadata": {
        "id": "4VSof3lAue4u"
      },
      "source": [
        "### Create Predictor and Target numpy array  <a class=\"anchor\" id=\"Create_Predictor_and_Target_numpy_array\"></a>"
      ]
    },
    {
      "cell_type": "code",
      "metadata": {
        "colab": {
          "base_uri": "https://localhost:8080/",
          "height": 0
        },
        "id": "z9hAQmYcue4v",
        "outputId": "84f06175-971e-4984-f52f-77675aaef924"
      },
      "source": [
        "# Target:\n",
        "Y_Train= Train_dataset['Ancestry_Encoded'].to_numpy()\n",
        "Y_Test= Test_dataset['Ancestry_Encoded'].to_numpy()\n",
        "Y_Train.shape"
      ],
      "execution_count": 15,
      "outputs": [
        {
          "output_type": "execute_result",
          "data": {
            "text/plain": [
              "(183,)"
            ]
          },
          "metadata": {},
          "execution_count": 15
        }
      ]
    },
    {
      "cell_type": "code",
      "metadata": {
        "colab": {
          "base_uri": "https://localhost:8080/",
          "height": 0
        },
        "id": "iQ9uafZ4ue4v",
        "outputId": "54fc05a5-ed04-4c2c-8355-dc829ad44e93"
      },
      "source": [
        "# Convert the Pandas dataframe to numpy ndarray for computational improvement\n",
        "X_Train = Train_dataset.iloc[:,:-2].to_numpy()\n",
        "X_Test = Test_dataset.iloc[:,:-2].to_numpy()\n",
        "\n",
        "print(type(X_Train), X_Train[:1], \"Shape = \", X_Train.shape)"
      ],
      "execution_count": 16,
      "outputs": [
        {
          "output_type": "stream",
          "name": "stdout",
          "text": [
            "<class 'numpy.ndarray'> [[-10.90117144   0.79874334  -1.14330096  -1.07096001  11.85639581\n",
            "   -2.2659654    4.5364047    1.51995913  -2.21429419  -0.67127393]] Shape =  (183, 10)\n"
          ]
        }
      ]
    },
    {
      "cell_type": "markdown",
      "metadata": {
        "id": "hFDnLTEDue4v"
      },
      "source": [
        "### Create a Normalize copy of variables <a class=\"anchor\" id=\"Create_a_Normalize_copy_of_variables\"></a>"
      ]
    },
    {
      "cell_type": "code",
      "metadata": {
        "colab": {
          "base_uri": "https://localhost:8080/",
          "height": 0
        },
        "id": "49-K0j34ue4v",
        "outputId": "29cf1183-754f-4bee-b1fc-ae99567e5c0b"
      },
      "source": [
        "# Create Standarizing ObjectPackages:\n",
        "standardization = StandardScaler()\n",
        "\n",
        "# Strandardize \n",
        "n_observations = len(Train_dataset)\n",
        "variables = Train_dataset.columns\n",
        "\n",
        "\n",
        "# Standardize the Predictors (X)\n",
        "X_Train = standardization.fit_transform(X_Train)\n",
        "\n",
        "# Add a constanct to the predictor matrix\n",
        "#X_Train = np.column_stack((np.ones(n_observations),X_Train))\n",
        "\n",
        "\n",
        "# Save the original M and Std of the original data. Used for unstandardize\n",
        "original_means = standardization.mean_\n",
        "\n",
        "# we chanced standardization.std_ to standardization.var_**.5\n",
        "originanal_stds = standardization.var_**.5\n",
        "\n",
        "\n",
        "print(\"observations :\", n_observations)\n",
        "print(\"variables :\", variables[:2])\n",
        "print('original_means :', original_means)\n",
        "print('originanal_stds :', originanal_stds)\n",
        "\n",
        "\n"
      ],
      "execution_count": 17,
      "outputs": [
        {
          "output_type": "stream",
          "name": "stdout",
          "text": [
            "observations : 183\n",
            "variables : Index(['PC1', 'PC2'], dtype='object')\n",
            "original_means : [ 1.40487976e+00  2.02293488e+00  1.91271130e-03  1.02811502e-01\n",
            "  2.43929372e-01  2.93901516e-01  4.37620184e-02 -1.85769325e-01\n",
            "  1.03879526e-01 -4.17198356e-02]\n",
            "originanal_stds : [4.8993287  3.47654999 3.90903976 3.149965   2.14032401 1.77048761\n",
            " 1.58593444 1.50391174 1.58141009 0.97706561]\n"
          ]
        }
      ]
    },
    {
      "cell_type": "markdown",
      "metadata": {
        "id": "bm9rE-r9ue4w"
      },
      "source": [
        "### Split Data: <a class=\"anchor\" id=\"Split_Data:\"></a>"
      ]
    },
    {
      "cell_type": "markdown",
      "metadata": {
        "id": "1tDsmt9Cue4w"
      },
      "source": [
        "#let's first split it into train and test part\n",
        "X_train, X_out_sample, y_train, y_out_sample = train_test_split(Xst, y_Centered, test_size=0.40, random_state=101) # Training and testing split\n",
        "\n",
        "X_validation, X_test, y_validation, y_test = train_test_split(X_out_sample, y_out_sample, test_size=0.50, random_state=101) # Validation and test split\n",
        "\n",
        "# Print Data size\n",
        "print (\"Train dataset sample size: {}\".format(len(X_train)))\n",
        "print (\"Validation dataset sample size: {}\".format(len(X_validation)))\n",
        "print (\"Test dataset sample size: {}\".format( len(X_test)))"
      ]
    },
    {
      "cell_type": "markdown",
      "metadata": {
        "id": "A90wcawSue4w"
      },
      "source": [
        "# Regression Model <a class=\"anchor\" id=\"Regression_Model\"></a>\n",
        "<hr>"
      ]
    },
    {
      "cell_type": "markdown",
      "metadata": {
        "id": "X0VLOqIgue4w"
      },
      "source": [
        "### Define our learning rates <a class=\"anchor\" id=\"Define_our_learning_rates\"></a>"
      ]
    },
    {
      "cell_type": "code",
      "metadata": {
        "colab": {
          "base_uri": "https://localhost:8080/",
          "height": 0
        },
        "id": "NfjpUAslue4w",
        "outputId": "6c6096c7-eea7-4526-9639-ce259b212343"
      },
      "source": [
        "# Define my tuning parameter values 𝜆:\n",
        "\n",
        "learning_rates_λ = [1.e-04, 1.e-03, 1.e-02, 1.e-01, 1.e+00, 1.e+01, 1.e+02, 1.e+03, 1.e+04]\n",
        "print(learning_rates_λ)\n",
        "\n",
        "# learning rate\n",
        "α =  1e-4\n",
        "\n",
        "# K-folds\n",
        "k = 5\n",
        "\n",
        "\n",
        "# Itterations\n",
        "n_iters = 10000 \n"
      ],
      "execution_count": 18,
      "outputs": [
        {
          "output_type": "stream",
          "name": "stdout",
          "text": [
            "[0.0001, 0.001, 0.01, 0.1, 1.0, 10.0, 100.0, 1000.0, 10000.0]\n"
          ]
        }
      ]
    },
    {
      "cell_type": "markdown",
      "metadata": {
        "id": "7RJC_4Q_ue4x"
      },
      "source": [
        "### Create the Regression Objects <a class=\"anchor\" id=\"Create_the_Regression_Objects\"></a>"
      ]
    },
    {
      "cell_type": "markdown",
      "metadata": {
        "id": "arh5UEjbue4x"
      },
      "source": [
        "**LogisticRegression Library** <a class=\"anchor\" id=\"LogisticRegression_Library\"></a>"
      ]
    },
    {
      "cell_type": "code",
      "metadata": {
        "id": "OkjHDb6Eue4x"
      },
      "source": [
        "# LogisticRegression\n",
        "from sklearn.linear_model import LogisticRegression\n",
        "Library_LogisticRegression = LogisticRegression(max_iter = 10000, multi_class='multinomial', solver='lbfgs', penalty='l2', C=1)\n"
      ],
      "execution_count": 19,
      "outputs": []
    },
    {
      "cell_type": "markdown",
      "metadata": {
        "id": "oxabTSELue4x"
      },
      "source": [
        "## **Deliverable 7.1**  <a class=\"anchor\" id=\"Deliverable_6.1\"></a>\n",
        "<h>\n",
        "\n",
        "> Deliverable 1: Illustrate the effect of the tuning parameter on the inferred ridge regression coefficients by generating five plots (one for each of the 𝐾=5 ancestry classes) of 10 lines (one for each of the 𝑝=10 features), with the 𝑦-axis as 𝛽̂\n",
        "𝑗𝑘, 𝑗=1,2,…,10 for the graph of class 𝑘, and 𝑥-axis the corresponding log-scaled tuning parameter value log10(𝜆) that\n",
        "7\n",
        "generated the particular 𝛽̂\n",
        "𝑗𝑘. Label both axes in all five plots. Without the log scaling of the tuning parameter, the plot will look distorted."
      ]
    },
    {
      "cell_type": "markdown",
      "metadata": {
        "id": "_dpSgiabue4y"
      },
      "source": [
        "**LogisticRegression with Library**"
      ]
    },
    {
      "cell_type": "code",
      "metadata": {
        "id": "ZS8XcUaEue4y"
      },
      "source": [
        "L𝛽_per_λ=[] # set empty list\n",
        "\n",
        "# Evaluate tuning parameters with LogisticRegression penalty\n",
        "for tuning_param in learning_rates_λ:\n",
        "        Library_LogisticRegression = LogisticRegression(max_iter = 10000, multi_class = 'multinomial', solver = 'lbfgs', penalty ='l2', C = tuning_param)\n",
        "        Library_LogisticRegression.fit(X_Train, Y_Train)\n",
        "        c = np.array(Library_LogisticRegression.coef_)\n",
        "       # c = np.append(tuning_param,c)\n",
        "        L𝛽_per_λ.append(Library_LogisticRegression.coef_)\n",
        "#        print(c)\n"
      ],
      "execution_count": 20,
      "outputs": []
    },
    {
      "cell_type": "code",
      "metadata": {
        "colab": {
          "base_uri": "https://localhost:8080/",
          "height": 0
        },
        "id": "_IcmDKwpue4y",
        "outputId": "1e9bd9e9-a0be-4cc7-955c-aede101f87d7"
      },
      "source": [
        "L𝛽_per_λ[0]"
      ],
      "execution_count": 21,
      "outputs": [
        {
          "output_type": "execute_result",
          "data": {
            "text/plain": [
              "array([[-5.99624844e-03,  2.96117039e-04, -8.73802214e-04,\n",
              "        -2.04099800e-04,  1.39486513e-03, -5.71819264e-04,\n",
              "        -5.20972427e-04,  1.07976342e-04,  1.04013395e-03,\n",
              "        -6.51753379e-04],\n",
              "       [ 3.17782901e-03,  3.20405131e-03, -2.75595421e-04,\n",
              "         7.25605495e-03, -5.20324070e-04, -9.23717795e-04,\n",
              "        -9.90076526e-05,  7.45094436e-04,  4.01783544e-04,\n",
              "        -1.52613597e-03],\n",
              "       [ 1.95202263e-04, -6.24913113e-03,  9.13687544e-04,\n",
              "        -4.18520330e-04, -5.83513899e-04,  3.02492530e-03,\n",
              "         7.84272369e-04, -2.65956521e-03, -1.24063618e-03,\n",
              "        -4.04365901e-04],\n",
              "       [ 2.28441492e-03, -5.37970381e-04, -4.83132244e-03,\n",
              "        -3.44509733e-03, -1.70996181e-04, -1.31009775e-03,\n",
              "        -9.47052680e-05,  1.90245786e-03,  5.30506344e-04,\n",
              "         3.67778162e-03],\n",
              "       [ 3.38802248e-04,  3.28693316e-03,  5.06703253e-03,\n",
              "        -3.18833750e-03, -1.20030982e-04, -2.19290489e-04,\n",
              "        -6.95870212e-05, -9.59634295e-05, -7.31787661e-04,\n",
              "        -1.09552637e-03]])"
            ]
          },
          "metadata": {},
          "execution_count": 21
        }
      ]
    },
    {
      "cell_type": "code",
      "metadata": {
        "id": "nf2e0HTDue4y"
      },
      "source": [
        "# Loop throught the betas, by class generated by each lamda\n",
        "temp_df = []\n",
        "for l in range(np.array(L𝛽_per_λ).shape[0]):\n",
        "    for c in range(np.array(L𝛽_per_λ).shape[1]):\n",
        "        temp_df.append(np.append(L𝛽_per_λ[l][c],(learning_rates_λ[l],c)))"
      ],
      "execution_count": 22,
      "outputs": []
    },
    {
      "cell_type": "code",
      "metadata": {
        "colab": {
          "base_uri": "https://localhost:8080/",
          "height": 363
        },
        "id": "XoeUHdWkue4y",
        "outputId": "ef0d0f74-2de9-4d6e-fe72-e3aae14c7409"
      },
      "source": [
        "TunnedL𝛽_df=pd.DataFrame(np.array(temp_df))\n",
        "TunnedL𝛽_df.columns=['PC1', 'PC2', 'PC3', 'PC4', 'PC5', 'PC6', 'PC7', 'PC8', 'PC9', 'PC10', 'Lambda', 'Class']\n",
        "#TunnedL𝛽_df['Class_Name'] = TunnedL𝛽_df['Class_Name'].apply(lambda x: Training_Class[int(x)])\n",
        "TunnedL𝛽_df.head(10)"
      ],
      "execution_count": 23,
      "outputs": [
        {
          "output_type": "execute_result",
          "data": {
            "text/html": [
              "<div>\n",
              "<style scoped>\n",
              "    .dataframe tbody tr th:only-of-type {\n",
              "        vertical-align: middle;\n",
              "    }\n",
              "\n",
              "    .dataframe tbody tr th {\n",
              "        vertical-align: top;\n",
              "    }\n",
              "\n",
              "    .dataframe thead th {\n",
              "        text-align: right;\n",
              "    }\n",
              "</style>\n",
              "<table border=\"1\" class=\"dataframe\">\n",
              "  <thead>\n",
              "    <tr style=\"text-align: right;\">\n",
              "      <th></th>\n",
              "      <th>PC1</th>\n",
              "      <th>PC2</th>\n",
              "      <th>PC3</th>\n",
              "      <th>PC4</th>\n",
              "      <th>PC5</th>\n",
              "      <th>PC6</th>\n",
              "      <th>PC7</th>\n",
              "      <th>PC8</th>\n",
              "      <th>PC9</th>\n",
              "      <th>PC10</th>\n",
              "      <th>Lambda</th>\n",
              "      <th>Class</th>\n",
              "    </tr>\n",
              "  </thead>\n",
              "  <tbody>\n",
              "    <tr>\n",
              "      <th>0</th>\n",
              "      <td>-0.005996</td>\n",
              "      <td>0.000296</td>\n",
              "      <td>-0.000874</td>\n",
              "      <td>-0.000204</td>\n",
              "      <td>0.001395</td>\n",
              "      <td>-0.000572</td>\n",
              "      <td>-0.000521</td>\n",
              "      <td>0.000108</td>\n",
              "      <td>0.001040</td>\n",
              "      <td>-0.000652</td>\n",
              "      <td>0.0001</td>\n",
              "      <td>0.0</td>\n",
              "    </tr>\n",
              "    <tr>\n",
              "      <th>1</th>\n",
              "      <td>0.003178</td>\n",
              "      <td>0.003204</td>\n",
              "      <td>-0.000276</td>\n",
              "      <td>0.007256</td>\n",
              "      <td>-0.000520</td>\n",
              "      <td>-0.000924</td>\n",
              "      <td>-0.000099</td>\n",
              "      <td>0.000745</td>\n",
              "      <td>0.000402</td>\n",
              "      <td>-0.001526</td>\n",
              "      <td>0.0001</td>\n",
              "      <td>1.0</td>\n",
              "    </tr>\n",
              "    <tr>\n",
              "      <th>2</th>\n",
              "      <td>0.000195</td>\n",
              "      <td>-0.006249</td>\n",
              "      <td>0.000914</td>\n",
              "      <td>-0.000419</td>\n",
              "      <td>-0.000584</td>\n",
              "      <td>0.003025</td>\n",
              "      <td>0.000784</td>\n",
              "      <td>-0.002660</td>\n",
              "      <td>-0.001241</td>\n",
              "      <td>-0.000404</td>\n",
              "      <td>0.0001</td>\n",
              "      <td>2.0</td>\n",
              "    </tr>\n",
              "    <tr>\n",
              "      <th>3</th>\n",
              "      <td>0.002284</td>\n",
              "      <td>-0.000538</td>\n",
              "      <td>-0.004831</td>\n",
              "      <td>-0.003445</td>\n",
              "      <td>-0.000171</td>\n",
              "      <td>-0.001310</td>\n",
              "      <td>-0.000095</td>\n",
              "      <td>0.001902</td>\n",
              "      <td>0.000531</td>\n",
              "      <td>0.003678</td>\n",
              "      <td>0.0001</td>\n",
              "      <td>3.0</td>\n",
              "    </tr>\n",
              "    <tr>\n",
              "      <th>4</th>\n",
              "      <td>0.000339</td>\n",
              "      <td>0.003287</td>\n",
              "      <td>0.005067</td>\n",
              "      <td>-0.003188</td>\n",
              "      <td>-0.000120</td>\n",
              "      <td>-0.000219</td>\n",
              "      <td>-0.000070</td>\n",
              "      <td>-0.000096</td>\n",
              "      <td>-0.000732</td>\n",
              "      <td>-0.001096</td>\n",
              "      <td>0.0001</td>\n",
              "      <td>4.0</td>\n",
              "    </tr>\n",
              "    <tr>\n",
              "      <th>5</th>\n",
              "      <td>-0.058225</td>\n",
              "      <td>0.002975</td>\n",
              "      <td>-0.008652</td>\n",
              "      <td>-0.001678</td>\n",
              "      <td>0.013273</td>\n",
              "      <td>-0.005503</td>\n",
              "      <td>-0.005145</td>\n",
              "      <td>0.001171</td>\n",
              "      <td>0.009987</td>\n",
              "      <td>-0.006234</td>\n",
              "      <td>0.0010</td>\n",
              "      <td>0.0</td>\n",
              "    </tr>\n",
              "    <tr>\n",
              "      <th>6</th>\n",
              "      <td>0.030222</td>\n",
              "      <td>0.029984</td>\n",
              "      <td>-0.002905</td>\n",
              "      <td>0.068954</td>\n",
              "      <td>-0.004819</td>\n",
              "      <td>-0.008493</td>\n",
              "      <td>-0.000758</td>\n",
              "      <td>0.006758</td>\n",
              "      <td>0.003699</td>\n",
              "      <td>-0.014060</td>\n",
              "      <td>0.0010</td>\n",
              "      <td>1.0</td>\n",
              "    </tr>\n",
              "    <tr>\n",
              "      <th>7</th>\n",
              "      <td>0.002223</td>\n",
              "      <td>-0.059828</td>\n",
              "      <td>0.008914</td>\n",
              "      <td>-0.003635</td>\n",
              "      <td>-0.005770</td>\n",
              "      <td>0.028374</td>\n",
              "      <td>0.007473</td>\n",
              "      <td>-0.024838</td>\n",
              "      <td>-0.011794</td>\n",
              "      <td>-0.003760</td>\n",
              "      <td>0.0010</td>\n",
              "      <td>2.0</td>\n",
              "    </tr>\n",
              "    <tr>\n",
              "      <th>8</th>\n",
              "      <td>0.022178</td>\n",
              "      <td>-0.004906</td>\n",
              "      <td>-0.046279</td>\n",
              "      <td>-0.032885</td>\n",
              "      <td>-0.001479</td>\n",
              "      <td>-0.012364</td>\n",
              "      <td>-0.000878</td>\n",
              "      <td>0.017768</td>\n",
              "      <td>0.005104</td>\n",
              "      <td>0.034395</td>\n",
              "      <td>0.0010</td>\n",
              "      <td>3.0</td>\n",
              "    </tr>\n",
              "    <tr>\n",
              "      <th>9</th>\n",
              "      <td>0.003602</td>\n",
              "      <td>0.031775</td>\n",
              "      <td>0.048922</td>\n",
              "      <td>-0.030756</td>\n",
              "      <td>-0.001205</td>\n",
              "      <td>-0.002014</td>\n",
              "      <td>-0.000692</td>\n",
              "      <td>-0.000860</td>\n",
              "      <td>-0.006996</td>\n",
              "      <td>-0.010341</td>\n",
              "      <td>0.0010</td>\n",
              "      <td>4.0</td>\n",
              "    </tr>\n",
              "  </tbody>\n",
              "</table>\n",
              "</div>"
            ],
            "text/plain": [
              "        PC1       PC2       PC3       PC4  ...       PC9      PC10  Lambda  Class\n",
              "0 -0.005996  0.000296 -0.000874 -0.000204  ...  0.001040 -0.000652  0.0001    0.0\n",
              "1  0.003178  0.003204 -0.000276  0.007256  ...  0.000402 -0.001526  0.0001    1.0\n",
              "2  0.000195 -0.006249  0.000914 -0.000419  ... -0.001241 -0.000404  0.0001    2.0\n",
              "3  0.002284 -0.000538 -0.004831 -0.003445  ...  0.000531  0.003678  0.0001    3.0\n",
              "4  0.000339  0.003287  0.005067 -0.003188  ... -0.000732 -0.001096  0.0001    4.0\n",
              "5 -0.058225  0.002975 -0.008652 -0.001678  ...  0.009987 -0.006234  0.0010    0.0\n",
              "6  0.030222  0.029984 -0.002905  0.068954  ...  0.003699 -0.014060  0.0010    1.0\n",
              "7  0.002223 -0.059828  0.008914 -0.003635  ... -0.011794 -0.003760  0.0010    2.0\n",
              "8  0.022178 -0.004906 -0.046279 -0.032885  ...  0.005104  0.034395  0.0010    3.0\n",
              "9  0.003602  0.031775  0.048922 -0.030756  ... -0.006996 -0.010341  0.0010    4.0\n",
              "\n",
              "[10 rows x 12 columns]"
            ]
          },
          "metadata": {},
          "execution_count": 23
        }
      ]
    },
    {
      "cell_type": "code",
      "metadata": {
        "colab": {
          "base_uri": "https://localhost:8080/",
          "height": 0
        },
        "id": "FKFHJ0Auue4z",
        "outputId": "b5d1436b-0b08-47e2-8c72-b926ec77ffc2"
      },
      "source": [
        "Training_Class"
      ],
      "execution_count": 24,
      "outputs": [
        {
          "output_type": "execute_result",
          "data": {
            "text/plain": [
              "['African', 'European', 'EastAsian', 'Oceanian', 'NativeAmerican']"
            ]
          },
          "metadata": {},
          "execution_count": 24
        }
      ]
    },
    {
      "cell_type": "code",
      "metadata": {
        "colab": {
          "base_uri": "https://localhost:8080/",
          "height": 331
        },
        "id": "JUBoYcoBue4z",
        "outputId": "3a2ea178-e9f0-498c-c98b-709da2a8a20e"
      },
      "source": [
        "TunnedL𝛽_df[TunnedL𝛽_df.Class.eq(0)]"
      ],
      "execution_count": 25,
      "outputs": [
        {
          "output_type": "execute_result",
          "data": {
            "text/html": [
              "<div>\n",
              "<style scoped>\n",
              "    .dataframe tbody tr th:only-of-type {\n",
              "        vertical-align: middle;\n",
              "    }\n",
              "\n",
              "    .dataframe tbody tr th {\n",
              "        vertical-align: top;\n",
              "    }\n",
              "\n",
              "    .dataframe thead th {\n",
              "        text-align: right;\n",
              "    }\n",
              "</style>\n",
              "<table border=\"1\" class=\"dataframe\">\n",
              "  <thead>\n",
              "    <tr style=\"text-align: right;\">\n",
              "      <th></th>\n",
              "      <th>PC1</th>\n",
              "      <th>PC2</th>\n",
              "      <th>PC3</th>\n",
              "      <th>PC4</th>\n",
              "      <th>PC5</th>\n",
              "      <th>PC6</th>\n",
              "      <th>PC7</th>\n",
              "      <th>PC8</th>\n",
              "      <th>PC9</th>\n",
              "      <th>PC10</th>\n",
              "      <th>Lambda</th>\n",
              "      <th>Class</th>\n",
              "    </tr>\n",
              "  </thead>\n",
              "  <tbody>\n",
              "    <tr>\n",
              "      <th>0</th>\n",
              "      <td>-0.005996</td>\n",
              "      <td>0.000296</td>\n",
              "      <td>-0.000874</td>\n",
              "      <td>-0.000204</td>\n",
              "      <td>0.001395</td>\n",
              "      <td>-0.000572</td>\n",
              "      <td>-0.000521</td>\n",
              "      <td>0.000108</td>\n",
              "      <td>0.001040</td>\n",
              "      <td>-0.000652</td>\n",
              "      <td>0.0001</td>\n",
              "      <td>0.0</td>\n",
              "    </tr>\n",
              "    <tr>\n",
              "      <th>5</th>\n",
              "      <td>-0.058225</td>\n",
              "      <td>0.002975</td>\n",
              "      <td>-0.008652</td>\n",
              "      <td>-0.001678</td>\n",
              "      <td>0.013273</td>\n",
              "      <td>-0.005503</td>\n",
              "      <td>-0.005145</td>\n",
              "      <td>0.001171</td>\n",
              "      <td>0.009987</td>\n",
              "      <td>-0.006234</td>\n",
              "      <td>0.0010</td>\n",
              "      <td>0.0</td>\n",
              "    </tr>\n",
              "    <tr>\n",
              "      <th>10</th>\n",
              "      <td>-0.416015</td>\n",
              "      <td>0.024907</td>\n",
              "      <td>-0.067488</td>\n",
              "      <td>-0.003388</td>\n",
              "      <td>0.072555</td>\n",
              "      <td>-0.034205</td>\n",
              "      <td>-0.039842</td>\n",
              "      <td>0.013773</td>\n",
              "      <td>0.064152</td>\n",
              "      <td>-0.037821</td>\n",
              "      <td>0.0100</td>\n",
              "      <td>0.0</td>\n",
              "    </tr>\n",
              "    <tr>\n",
              "      <th>15</th>\n",
              "      <td>-1.121139</td>\n",
              "      <td>0.088450</td>\n",
              "      <td>-0.184898</td>\n",
              "      <td>-0.000300</td>\n",
              "      <td>0.106416</td>\n",
              "      <td>-0.073681</td>\n",
              "      <td>-0.088256</td>\n",
              "      <td>0.039909</td>\n",
              "      <td>0.131243</td>\n",
              "      <td>-0.075570</td>\n",
              "      <td>0.1000</td>\n",
              "      <td>0.0</td>\n",
              "    </tr>\n",
              "    <tr>\n",
              "      <th>20</th>\n",
              "      <td>-1.856416</td>\n",
              "      <td>0.171097</td>\n",
              "      <td>-0.302337</td>\n",
              "      <td>-0.013588</td>\n",
              "      <td>0.119443</td>\n",
              "      <td>-0.101231</td>\n",
              "      <td>-0.125461</td>\n",
              "      <td>0.057246</td>\n",
              "      <td>0.167461</td>\n",
              "      <td>-0.101574</td>\n",
              "      <td>1.0000</td>\n",
              "      <td>0.0</td>\n",
              "    </tr>\n",
              "    <tr>\n",
              "      <th>25</th>\n",
              "      <td>-2.629643</td>\n",
              "      <td>0.258769</td>\n",
              "      <td>-0.422799</td>\n",
              "      <td>-0.048509</td>\n",
              "      <td>0.129216</td>\n",
              "      <td>-0.125794</td>\n",
              "      <td>-0.160011</td>\n",
              "      <td>0.069995</td>\n",
              "      <td>0.197318</td>\n",
              "      <td>-0.121781</td>\n",
              "      <td>10.0000</td>\n",
              "      <td>0.0</td>\n",
              "    </tr>\n",
              "    <tr>\n",
              "      <th>30</th>\n",
              "      <td>-3.460491</td>\n",
              "      <td>0.345159</td>\n",
              "      <td>-0.551590</td>\n",
              "      <td>-0.103982</td>\n",
              "      <td>0.147973</td>\n",
              "      <td>-0.157358</td>\n",
              "      <td>-0.182351</td>\n",
              "      <td>0.081515</td>\n",
              "      <td>0.230535</td>\n",
              "      <td>-0.132847</td>\n",
              "      <td>100.0000</td>\n",
              "      <td>0.0</td>\n",
              "    </tr>\n",
              "    <tr>\n",
              "      <th>35</th>\n",
              "      <td>-4.365979</td>\n",
              "      <td>0.416449</td>\n",
              "      <td>-0.680557</td>\n",
              "      <td>-0.168647</td>\n",
              "      <td>0.204572</td>\n",
              "      <td>-0.214614</td>\n",
              "      <td>-0.199244</td>\n",
              "      <td>0.088890</td>\n",
              "      <td>0.276065</td>\n",
              "      <td>-0.132921</td>\n",
              "      <td>1000.0000</td>\n",
              "      <td>0.0</td>\n",
              "    </tr>\n",
              "    <tr>\n",
              "      <th>40</th>\n",
              "      <td>-5.345176</td>\n",
              "      <td>0.512502</td>\n",
              "      <td>-0.880163</td>\n",
              "      <td>-0.290699</td>\n",
              "      <td>0.174939</td>\n",
              "      <td>-0.268239</td>\n",
              "      <td>-0.120009</td>\n",
              "      <td>0.114853</td>\n",
              "      <td>0.264026</td>\n",
              "      <td>-0.089241</td>\n",
              "      <td>10000.0000</td>\n",
              "      <td>0.0</td>\n",
              "    </tr>\n",
              "  </tbody>\n",
              "</table>\n",
              "</div>"
            ],
            "text/plain": [
              "         PC1       PC2       PC3  ...      PC10      Lambda  Class\n",
              "0  -0.005996  0.000296 -0.000874  ... -0.000652      0.0001    0.0\n",
              "5  -0.058225  0.002975 -0.008652  ... -0.006234      0.0010    0.0\n",
              "10 -0.416015  0.024907 -0.067488  ... -0.037821      0.0100    0.0\n",
              "15 -1.121139  0.088450 -0.184898  ... -0.075570      0.1000    0.0\n",
              "20 -1.856416  0.171097 -0.302337  ... -0.101574      1.0000    0.0\n",
              "25 -2.629643  0.258769 -0.422799  ... -0.121781     10.0000    0.0\n",
              "30 -3.460491  0.345159 -0.551590  ... -0.132847    100.0000    0.0\n",
              "35 -4.365979  0.416449 -0.680557  ... -0.132921   1000.0000    0.0\n",
              "40 -5.345176  0.512502 -0.880163  ... -0.089241  10000.0000    0.0\n",
              "\n",
              "[9 rows x 12 columns]"
            ]
          },
          "metadata": {},
          "execution_count": 25
        }
      ]
    },
    {
      "cell_type": "code",
      "metadata": {
        "colab": {
          "base_uri": "https://localhost:8080/",
          "height": 1876
        },
        "id": "xmvJFP2bue4z",
        "outputId": "a8845168-a486-4fe6-ab5e-5dfc614ee01a"
      },
      "source": [
        "# Plot tuning parameter on the inferred ridge regression coefficients\n",
        "sns.set(rc = {'figure.figsize':(15,8)})\n",
        "for i, c in enumerate(Training_Class):\n",
        "    sns.set_theme(style=\"whitegrid\")\n",
        "    sns.set_palette(\"mako\")\n",
        "    for j in range(1, 1 + X_Train.shape[1]):\n",
        "        sns.lineplot( x =  TunnedL𝛽_df[TunnedL𝛽_df.Class.eq(i)]['Lambda'], y = TunnedL𝛽_df[TunnedL𝛽_df.Class.eq(i)]['PC{}'.format(j)], palette='mako',   label = 'PC{}'.format(j) )\n",
        "        sns.set()\n",
        "    plt.xscale('log')\n",
        "    plt.legend(bbox_to_anchor=(1.09, 1), loc='upper left')\n",
        "    plt.xlabel('Log Lambda')\n",
        "    plt.ylabel('Coefficient Values')\n",
        "    plt.suptitle('Inferred Ridge Regression Coefficient Tuning Parameters of' + ' ' + c + ' ' + 'Class')\n",
        "    plt.show()    \n",
        "   "
      ],
      "execution_count": 26,
      "outputs": [
        {
          "output_type": "display_data",
          "data": {
            "image/png": "[encoded data removed]",
            "text/plain": [
              "<Figure size 1080x576 with 1 Axes>"
            ]
          },
          "metadata": {}
        },
        {
          "output_type": "display_data",
          "data": {
            "image/png": "[encoded data removed]",
            "text/plain": [
              "<Figure size 1080x576 with 1 Axes>"
            ]
          },
          "metadata": {}
        },
        {
          "output_type": "display_data",
          "data": {
            "image/png": "[encoded data removed]",
            "text/plain": [
              "<Figure size 1080x576 with 1 Axes>"
            ]
          },
          "metadata": {}
        },
        {
          "output_type": "display_data",
          "data": {
            "image/png": "[encoded data removed]",
            "text/plain": [
              "<Figure size 1080x576 with 1 Axes>"
            ]
          },
          "metadata": {}
        },
        {
          "output_type": "display_data",
          "data": {
            "image/png": "[encoded data removed]",
            "text/plain": [
              "<Figure size 1080x576 with 1 Axes>"
            ]
          },
          "metadata": {}
        }
      ]
    },
    {
      "cell_type": "markdown",
      "metadata": {
        "id": "X7f_U3pDue4z"
      },
      "source": [
        "# **Deliverable 7.2**  <a class=\"anchor\" id=\"Deliverable_6.2\"></a>\n",
        "Illustrate the effect of the tuning parameter on the cross validation error by generating a plot with the 𝑦-axis as CV(5) error, and the 𝑥-axis the corresponding log-scaled tuning parameter value log10(𝜆) that generated the particular CV(5) error. Label both axes in the plot. Without the log scaling of the tuning parameter 𝜆, the plots will look distorted."
      ]
    },
    {
      "cell_type": "markdown",
      "metadata": {
        "id": "y3lr1rFYue4z"
      },
      "source": [
        "**CV Elastic Net with Library**"
      ]
    },
    {
      "cell_type": "code",
      "metadata": {
        "colab": {
          "base_uri": "https://localhost:8080/",
          "height": 0
        },
        "id": "McWV5Efrue40",
        "outputId": "b4ca00b6-c95b-43fd-aa8e-cd0e53d28ce7"
      },
      "source": [
        "from sklearn.model_selection import GridSearchCV\n",
        "from sklearn.linear_model import LogisticRegression\n",
        "\n",
        "#Define the model\n",
        "Library_LogisticRegression = LogisticRegression(max_iter = 10000, multi_class = 'multinomial', solver = 'lbfgs', penalty ='l2')\n",
        "\n",
        "\n",
        "# Create the Kfold:\n",
        "cv_iterator = KFold(n_splits = 5, shuffle=True, random_state=101)\n",
        "\n",
        "cv_score = cross_val_score(Library_LogisticRegression, X_Train, Y_Train, cv=cv_iterator, scoring='neg_mean_squared_error', n_jobs=1)\n",
        "print (cv_score)\n",
        "print ('Cv score: mean %0.3f std %0.3f' % (np.mean(cv_score), np.std(cv_score))) \n",
        "\n"
      ],
      "execution_count": 27,
      "outputs": [
        {
          "output_type": "stream",
          "name": "stdout",
          "text": [
            "[-0. -0. -0. -0. -0.]\n",
            "Cv score: mean 0.000 std 0.000\n"
          ]
        }
      ]
    },
    {
      "cell_type": "code",
      "metadata": {
        "colab": {
          "base_uri": "https://localhost:8080/",
          "height": 0
        },
        "id": "wsk37cY6ue40",
        "outputId": "5d83e531-2312-4bc1-dcb1-442352003017"
      },
      "source": [
        "# define grid\n",
        "Parm_grid = dict()\n",
        "Parm_grid['C'] = learning_rates_λ\n",
        "Parm_grid"
      ],
      "execution_count": 28,
      "outputs": [
        {
          "output_type": "execute_result",
          "data": {
            "text/plain": [
              "{'C': [0.0001, 0.001, 0.01, 0.1, 1.0, 10.0, 100.0, 1000.0, 10000.0]}"
            ]
          },
          "metadata": {},
          "execution_count": 28
        }
      ]
    },
    {
      "cell_type": "code",
      "metadata": {
        "colab": {
          "base_uri": "https://localhost:8080/",
          "height": 0
        },
        "id": "rNGvOeWhue40",
        "outputId": "3baf5043-3083-4f56-eb7a-5fa78e51f2eb"
      },
      "source": [
        "# Lets define search\n",
        "GsearchCV = GridSearchCV(estimator = Library_LogisticRegression, param_grid = Parm_grid, scoring = 'neg_mean_squared_error', n_jobs=1, refit=True, cv=cv_iterator)\n",
        "GsearchCV.fit(X_Train, Y_Train)\n",
        "\n"
      ],
      "execution_count": 29,
      "outputs": [
        {
          "output_type": "execute_result",
          "data": {
            "text/plain": [
              "GridSearchCV(cv=KFold(n_splits=5, random_state=101, shuffle=True),\n",
              "             estimator=LogisticRegression(max_iter=10000,\n",
              "                                          multi_class='multinomial'),\n",
              "             n_jobs=1,\n",
              "             param_grid={'C': [0.0001, 0.001, 0.01, 0.1, 1.0, 10.0, 100.0,\n",
              "                               1000.0, 10000.0]},\n",
              "             scoring='neg_mean_squared_error')"
            ]
          },
          "metadata": {},
          "execution_count": 29
        }
      ]
    },
    {
      "cell_type": "code",
      "metadata": {
        "colab": {
          "base_uri": "https://localhost:8080/",
          "height": 331
        },
        "id": "psatnUqAue40",
        "outputId": "fe126e22-3540-4038-ad5e-789b607dce07"
      },
      "source": [
        "GCV_df = pd.concat([pd.DataFrame(GsearchCV.cv_results_[\"params\"]),pd.DataFrame(GsearchCV.cv_results_[\"mean_test_score\"], columns=[\"mean_test_score\"])],axis=1)\n",
        "#GCV_df.index=GCV_df['alpha']\n",
        "GCV_df.rename(columns={\"C\": \"learning_rates_λ\"}, inplace=True)\n",
        "\n",
        "GCV_df"
      ],
      "execution_count": 30,
      "outputs": [
        {
          "output_type": "execute_result",
          "data": {
            "text/html": [
              "<div>\n",
              "<style scoped>\n",
              "    .dataframe tbody tr th:only-of-type {\n",
              "        vertical-align: middle;\n",
              "    }\n",
              "\n",
              "    .dataframe tbody tr th {\n",
              "        vertical-align: top;\n",
              "    }\n",
              "\n",
              "    .dataframe thead th {\n",
              "        text-align: right;\n",
              "    }\n",
              "</style>\n",
              "<table border=\"1\" class=\"dataframe\">\n",
              "  <thead>\n",
              "    <tr style=\"text-align: right;\">\n",
              "      <th></th>\n",
              "      <th>learning_rates_λ</th>\n",
              "      <th>mean_test_score</th>\n",
              "    </tr>\n",
              "  </thead>\n",
              "  <tbody>\n",
              "    <tr>\n",
              "      <th>0</th>\n",
              "      <td>0.0001</td>\n",
              "      <td>-2.404354</td>\n",
              "    </tr>\n",
              "    <tr>\n",
              "      <th>1</th>\n",
              "      <td>0.0010</td>\n",
              "      <td>-2.404354</td>\n",
              "    </tr>\n",
              "    <tr>\n",
              "      <th>2</th>\n",
              "      <td>0.0100</td>\n",
              "      <td>-0.322222</td>\n",
              "    </tr>\n",
              "    <tr>\n",
              "      <th>3</th>\n",
              "      <td>0.1000</td>\n",
              "      <td>0.000000</td>\n",
              "    </tr>\n",
              "    <tr>\n",
              "      <th>4</th>\n",
              "      <td>1.0000</td>\n",
              "      <td>0.000000</td>\n",
              "    </tr>\n",
              "    <tr>\n",
              "      <th>5</th>\n",
              "      <td>10.0000</td>\n",
              "      <td>0.000000</td>\n",
              "    </tr>\n",
              "    <tr>\n",
              "      <th>6</th>\n",
              "      <td>100.0000</td>\n",
              "      <td>0.000000</td>\n",
              "    </tr>\n",
              "    <tr>\n",
              "      <th>7</th>\n",
              "      <td>1000.0000</td>\n",
              "      <td>0.000000</td>\n",
              "    </tr>\n",
              "    <tr>\n",
              "      <th>8</th>\n",
              "      <td>10000.0000</td>\n",
              "      <td>0.000000</td>\n",
              "    </tr>\n",
              "  </tbody>\n",
              "</table>\n",
              "</div>"
            ],
            "text/plain": [
              "   learning_rates_λ  mean_test_score\n",
              "0            0.0001        -2.404354\n",
              "1            0.0010        -2.404354\n",
              "2            0.0100        -0.322222\n",
              "3            0.1000         0.000000\n",
              "4            1.0000         0.000000\n",
              "5           10.0000         0.000000\n",
              "6          100.0000         0.000000\n",
              "7         1000.0000         0.000000\n",
              "8        10000.0000         0.000000"
            ]
          },
          "metadata": {},
          "execution_count": 30
        }
      ]
    },
    {
      "cell_type": "code",
      "metadata": {
        "colab": {
          "base_uri": "https://localhost:8080/",
          "height": 566
        },
        "id": "ZTiKO6UAue40",
        "outputId": "8e52025d-71a8-411d-fa60-60036fc95b52"
      },
      "source": [
        "\n",
        "sns.set_theme(style=\"whitegrid\")\n",
        "sns.set_palette(\"mako\")\n",
        "\n",
        "\n",
        "plt.plot(GCV_df[\"learning_rates_λ\"] , GCV_df[\"mean_test_score\"])\n",
        "\n",
        "\n",
        "sns.set_palette(\"mako\")\n",
        "sns.set()\n",
        "\n",
        "\n",
        "plt.suptitle('Effect of the uning parameter on the cross validation error log10(lambda)')\n",
        "plt.xscale('log')\n",
        "plt.xlabel('Lambda')\n",
        "plt.ylabel('loss from cross valiadation')\n",
        "plt.show()"
      ],
      "execution_count": 31,
      "outputs": [
        {
          "output_type": "display_data",
          "data": {
            "image/png": "[encoded data removed]",
            "text/plain": [
              "<Figure size 1080x576 with 1 Axes>"
            ]
          },
          "metadata": {}
        }
      ]
    },
    {
      "cell_type": "markdown",
      "metadata": {
        "id": "_LHbyoNRue41"
      },
      "source": [
        "# **Deliverable 7.3**  <a class=\"anchor\" id=\"Deliverable_6.3\"></a>\n",
        "Indicate the value of 𝜆 that generated the smallest CV(5) error"
      ]
    },
    {
      "cell_type": "markdown",
      "metadata": {
        "id": "_XKTKUG5ue41"
      },
      "source": [
        "**Smallest CV with Library**"
      ]
    },
    {
      "cell_type": "code",
      "metadata": {
        "colab": {
          "base_uri": "https://localhost:8080/",
          "height": 0
        },
        "id": "oHGAC_95ue41",
        "outputId": "f3a60450-467b-4169-ef9f-c7f7fd21990d"
      },
      "source": [
        "print ('Best: ',GsearchCV.best_params_)\n",
        "print ('Best CV mean squared error: %0.3f' % np.abs(GsearchCV.best_score_))"
      ],
      "execution_count": 32,
      "outputs": [
        {
          "output_type": "stream",
          "name": "stdout",
          "text": [
            "Best:  {'C': 0.1}\n",
            "Best CV mean squared error: 0.000\n"
          ]
        }
      ]
    },
    {
      "cell_type": "code",
      "metadata": {
        "colab": {
          "base_uri": "https://localhost:8080/",
          "height": 81
        },
        "id": "MfHtU6EVue41",
        "outputId": "5db86ff7-17ff-433d-f3a7-6fe656969975"
      },
      "source": [
        "GCV_df.sort_values(by=['mean_test_score'], ascending=False)[:1]\n"
      ],
      "execution_count": 33,
      "outputs": [
        {
          "output_type": "execute_result",
          "data": {
            "text/html": [
              "<div>\n",
              "<style scoped>\n",
              "    .dataframe tbody tr th:only-of-type {\n",
              "        vertical-align: middle;\n",
              "    }\n",
              "\n",
              "    .dataframe tbody tr th {\n",
              "        vertical-align: top;\n",
              "    }\n",
              "\n",
              "    .dataframe thead th {\n",
              "        text-align: right;\n",
              "    }\n",
              "</style>\n",
              "<table border=\"1\" class=\"dataframe\">\n",
              "  <thead>\n",
              "    <tr style=\"text-align: right;\">\n",
              "      <th></th>\n",
              "      <th>learning_rates_λ</th>\n",
              "      <th>mean_test_score</th>\n",
              "    </tr>\n",
              "  </thead>\n",
              "  <tbody>\n",
              "    <tr>\n",
              "      <th>3</th>\n",
              "      <td>0.1</td>\n",
              "      <td>0.0</td>\n",
              "    </tr>\n",
              "  </tbody>\n",
              "</table>\n",
              "</div>"
            ],
            "text/plain": [
              "   learning_rates_λ  mean_test_score\n",
              "3               0.1              0.0"
            ]
          },
          "metadata": {},
          "execution_count": 33
        }
      ]
    },
    {
      "cell_type": "code",
      "metadata": {
        "colab": {
          "base_uri": "https://localhost:8080/",
          "height": 0
        },
        "id": "-hSF7cC5ue41",
        "outputId": "1b65d27a-0251-4bea-db48-48861e77c05e"
      },
      "source": [
        "# Alternative: sklearn.linear_model.ElasticNetCV\n",
        "from sklearn.linear_model import LogisticRegressionCV\n",
        "\n",
        "auto_LR = LogisticRegressionCV(Cs = learning_rates_λ, cv=5, max_iter = 10000, multi_class = 'multinomial', solver = 'lbfgs', penalty ='l2', n_jobs= 1 )\n",
        "auto_LR.fit(X_Train, Y_Train)\n",
        "#print ('Best alpha: %0.5f' % auto_LR.alpha_)\n",
        "print ('Best 𝜆: ' , auto_LR.C_)"
      ],
      "execution_count": 34,
      "outputs": [
        {
          "output_type": "stream",
          "name": "stdout",
          "text": [
            "Best 𝜆:  [0.1 0.1 0.1 0.1 0.1]\n"
          ]
        }
      ]
    },
    {
      "cell_type": "markdown",
      "metadata": {
        "id": "eM4N_2jCue42"
      },
      "source": [
        "# **Deliverable 7.4**  <a class=\"anchor\" id=\"Deliverable_6.4\"></a>\n",
        "\n",
        "Given the optimal 𝜆, retrain your model on the entire dataset of 𝑁=183 observations to obtain an estimate of the (𝑝+1)×𝐾 model parameter matrix as 𝐁̂ and make predictions of the probability for each of the 𝐾=5 classes for the 111 test individuals located in TestData_N111_p10.csv. That is, for class 𝑘, compute \n",
        "𝑝𝑘(𝑋;𝐁̂)=exp(𝛽̂0𝑘+Σ𝑋𝑗𝛽̂ 𝑗𝑘𝑝𝑗=1)\n",
        "/ Σexp(𝛽̂0ℓ+Σ𝑋𝑗𝛽̂ 𝑗ℓ𝑝𝑗=1)\n",
        "\n",
        "- for each of the 111 test samples 𝑋, and also predict the most probable ancestry label as \n",
        "    - 𝑌̂(𝑋)=arg max𝑘∈{1,2,…,𝐾}𝑝𝑘(𝑋;𝐁̂)\n",
        "- Report all six values (probability for each of the 𝐾=5 classes and the most probable ancestry label) for all 111 test individuals."
      ]
    },
    {
      "cell_type": "markdown",
      "metadata": {
        "id": "jo55OlKnue42"
      },
      "source": [
        "**Tunned with best λ with Library**"
      ]
    },
    {
      "cell_type": "code",
      "metadata": {
        "colab": {
          "base_uri": "https://localhost:8080/",
          "height": 0
        },
        "id": "PErXslROue42",
        "outputId": "406d9af4-09b1-4bfb-bfe6-98db22976086"
      },
      "source": [
        "Library_LogisticRegression_best= LogisticRegression(max_iter = 10000, multi_class='multinomial', solver='lbfgs', penalty='l2', C= auto_LR.C_[0])\n",
        "Library_LogisticRegression_best.fit( X_Train, Y_Train )\n",
        "\n",
        "y_predM_best = Library_LogisticRegression_best.predict(X_Test)\n",
        "print (\"Betas= \", np.mean(Library_LogisticRegression_best.coef_, 0))\n",
        "\n"
      ],
      "execution_count": 35,
      "outputs": [
        {
          "output_type": "stream",
          "name": "stdout",
          "text": [
            "Betas=  [ 1.97064587e-16  1.11022302e-16 -4.44089210e-17  0.00000000e+00\n",
            " -5.41233725e-17 -6.03683770e-17 -1.94289029e-17  2.25514052e-17\n",
            " -4.99600361e-17  4.99600361e-17]\n"
          ]
        }
      ]
    },
    {
      "cell_type": "code",
      "metadata": {
        "colab": {
          "base_uri": "https://localhost:8080/",
          "height": 0
        },
        "id": "ZkOnUiR0ue42",
        "outputId": "5b75546f-9953-4bec-c779-52212d5e23be"
      },
      "source": [
        "yhat = Library_LogisticRegression_best.predict_proba(X_Test)\n",
        "# summarize the predicted probabilities\n",
        "print('Predicted Probabilities: %s' % yhat[0])"
      ],
      "execution_count": 36,
      "outputs": [
        {
          "output_type": "stream",
          "name": "stdout",
          "text": [
            "Predicted Probabilities: [2.65398539e-08 4.07623241e-07 4.19578741e-08 3.58579025e-08\n",
            " 9.99999488e-01]\n"
          ]
        }
      ]
    },
    {
      "cell_type": "code",
      "metadata": {
        "colab": {
          "base_uri": "https://localhost:8080/",
          "height": 0
        },
        "id": "F9H88sTBue42",
        "outputId": "35cf8500-163e-418e-97a9-d3184c4a89c0"
      },
      "source": [
        "ŷ_test = Library_LogisticRegression_best.predict_proba(X_Test)\n",
        "ŷ_test[:3]"
      ],
      "execution_count": 37,
      "outputs": [
        {
          "output_type": "execute_result",
          "data": {
            "text/plain": [
              "array([[2.65398539e-08, 4.07623241e-07, 4.19578741e-08, 3.58579025e-08,\n",
              "        9.99999488e-01],\n",
              "       [3.42825046e-08, 3.12778397e-05, 2.56848531e-06, 9.99964053e-01,\n",
              "        2.06669173e-06],\n",
              "       [3.56852016e-04, 2.09402026e-02, 9.76706428e-01, 7.64024238e-04,\n",
              "        1.23249309e-03]])"
            ]
          },
          "metadata": {},
          "execution_count": 37
        }
      ]
    },
    {
      "cell_type": "code",
      "metadata": {
        "colab": {
          "base_uri": "https://localhost:8080/",
          "height": 0
        },
        "id": "9Ep_IF3Uue42",
        "outputId": "72f74182-fb9e-4839-a1a9-f097c3ed0d07"
      },
      "source": [
        "Y_class = Library_LogisticRegression_best.predict(X_Test)\n",
        "Y_class"
      ],
      "execution_count": 38,
      "outputs": [
        {
          "output_type": "execute_result",
          "data": {
            "text/plain": [
              "array([4, 3, 2, 0, 1, 3, 3, 3, 3, 3, 3, 3, 3, 3, 3, 3, 3, 3, 3, 2, 2, 1,\n",
              "       3, 3, 3, 3, 3, 1, 3, 2, 2, 2, 3, 3, 2, 3, 3, 2, 3, 3, 3, 3, 3, 3,\n",
              "       3, 3, 3, 3, 3, 3, 2, 2, 2, 3, 3, 3, 3, 4, 3, 0, 0, 0, 0, 0, 0, 0,\n",
              "       0, 0, 0, 0, 0, 0, 0, 0, 0, 0, 0, 0, 0, 0, 0, 0, 0, 0, 0, 0, 0, 0,\n",
              "       0, 0, 0, 0, 0, 0, 0, 0, 0, 0, 0, 0, 0, 0, 0, 0, 0, 0, 0, 0, 0, 0,\n",
              "       0])"
            ]
          },
          "metadata": {},
          "execution_count": 38
        }
      ]
    },
    {
      "cell_type": "code",
      "metadata": {
        "colab": {
          "base_uri": "https://localhost:8080/",
          "height": 0
        },
        "id": "FoZCP092ue43",
        "outputId": "7bb11d8d-f021-40ca-f77c-3abf077f5e9f"
      },
      "source": [
        "# Re-lable feature headers and add new class prediction index column\n",
        "new_colNames = ['{}_Probability'.format(c_name) for c_name in Training_Class] + ['ClassPredInd']\n",
        "new_colNames"
      ],
      "execution_count": 39,
      "outputs": [
        {
          "output_type": "execute_result",
          "data": {
            "text/plain": [
              "['African_Probability',\n",
              " 'European_Probability',\n",
              " 'EastAsian_Probability',\n",
              " 'Oceanian_Probability',\n",
              " 'NativeAmerican_Probability',\n",
              " 'ClassPredInd']"
            ]
          },
          "metadata": {},
          "execution_count": 39
        }
      ]
    },
    {
      "cell_type": "code",
      "metadata": {
        "id": "x_bDg2MXue43"
      },
      "source": [
        "# Implemnt index array of probabilities\n",
        "i_prob = np.concatenate((ŷ_test, Y_class[:, None]), 1)"
      ],
      "execution_count": 40,
      "outputs": []
    },
    {
      "cell_type": "code",
      "metadata": {
        "colab": {
          "base_uri": "https://localhost:8080/",
          "height": 424
        },
        "id": "QA2fz66Que43",
        "outputId": "58c0b070-3be4-47b3-e621-4980fa9eec34"
      },
      "source": [
        "# Create New dataframe for probality indeces\n",
        "df2 = pd.DataFrame(i_prob, columns = new_colNames)\n",
        "df2"
      ],
      "execution_count": 41,
      "outputs": [
        {
          "output_type": "execute_result",
          "data": {
            "text/html": [
              "<div>\n",
              "<style scoped>\n",
              "    .dataframe tbody tr th:only-of-type {\n",
              "        vertical-align: middle;\n",
              "    }\n",
              "\n",
              "    .dataframe tbody tr th {\n",
              "        vertical-align: top;\n",
              "    }\n",
              "\n",
              "    .dataframe thead th {\n",
              "        text-align: right;\n",
              "    }\n",
              "</style>\n",
              "<table border=\"1\" class=\"dataframe\">\n",
              "  <thead>\n",
              "    <tr style=\"text-align: right;\">\n",
              "      <th></th>\n",
              "      <th>African_Probability</th>\n",
              "      <th>European_Probability</th>\n",
              "      <th>EastAsian_Probability</th>\n",
              "      <th>Oceanian_Probability</th>\n",
              "      <th>NativeAmerican_Probability</th>\n",
              "      <th>ClassPredInd</th>\n",
              "    </tr>\n",
              "  </thead>\n",
              "  <tbody>\n",
              "    <tr>\n",
              "      <th>0</th>\n",
              "      <td>2.653985e-08</td>\n",
              "      <td>4.076232e-07</td>\n",
              "      <td>4.195787e-08</td>\n",
              "      <td>3.585790e-08</td>\n",
              "      <td>9.999995e-01</td>\n",
              "      <td>4.0</td>\n",
              "    </tr>\n",
              "    <tr>\n",
              "      <th>1</th>\n",
              "      <td>3.428250e-08</td>\n",
              "      <td>3.127784e-05</td>\n",
              "      <td>2.568485e-06</td>\n",
              "      <td>9.999641e-01</td>\n",
              "      <td>2.066692e-06</td>\n",
              "      <td>3.0</td>\n",
              "    </tr>\n",
              "    <tr>\n",
              "      <th>2</th>\n",
              "      <td>3.568520e-04</td>\n",
              "      <td>2.094020e-02</td>\n",
              "      <td>9.767064e-01</td>\n",
              "      <td>7.640242e-04</td>\n",
              "      <td>1.232493e-03</td>\n",
              "      <td>2.0</td>\n",
              "    </tr>\n",
              "    <tr>\n",
              "      <th>3</th>\n",
              "      <td>9.999789e-01</td>\n",
              "      <td>4.743223e-08</td>\n",
              "      <td>7.266109e-08</td>\n",
              "      <td>9.399326e-08</td>\n",
              "      <td>2.089339e-05</td>\n",
              "      <td>0.0</td>\n",
              "    </tr>\n",
              "    <tr>\n",
              "      <th>4</th>\n",
              "      <td>4.452492e-08</td>\n",
              "      <td>9.999914e-01</td>\n",
              "      <td>4.315461e-08</td>\n",
              "      <td>7.712259e-06</td>\n",
              "      <td>7.837322e-07</td>\n",
              "      <td>1.0</td>\n",
              "    </tr>\n",
              "    <tr>\n",
              "      <th>...</th>\n",
              "      <td>...</td>\n",
              "      <td>...</td>\n",
              "      <td>...</td>\n",
              "      <td>...</td>\n",
              "      <td>...</td>\n",
              "      <td>...</td>\n",
              "    </tr>\n",
              "    <tr>\n",
              "      <th>106</th>\n",
              "      <td>9.999990e-01</td>\n",
              "      <td>4.436773e-08</td>\n",
              "      <td>4.735975e-08</td>\n",
              "      <td>6.703300e-08</td>\n",
              "      <td>8.140369e-07</td>\n",
              "      <td>0.0</td>\n",
              "    </tr>\n",
              "    <tr>\n",
              "      <th>107</th>\n",
              "      <td>9.997505e-01</td>\n",
              "      <td>1.521141e-05</td>\n",
              "      <td>1.925700e-04</td>\n",
              "      <td>6.565988e-06</td>\n",
              "      <td>3.514524e-05</td>\n",
              "      <td>0.0</td>\n",
              "    </tr>\n",
              "    <tr>\n",
              "      <th>108</th>\n",
              "      <td>9.999776e-01</td>\n",
              "      <td>2.305937e-06</td>\n",
              "      <td>1.045074e-06</td>\n",
              "      <td>9.334981e-06</td>\n",
              "      <td>9.673028e-06</td>\n",
              "      <td>0.0</td>\n",
              "    </tr>\n",
              "    <tr>\n",
              "      <th>109</th>\n",
              "      <td>9.997518e-01</td>\n",
              "      <td>1.508667e-06</td>\n",
              "      <td>4.464774e-05</td>\n",
              "      <td>1.360073e-04</td>\n",
              "      <td>6.605582e-05</td>\n",
              "      <td>0.0</td>\n",
              "    </tr>\n",
              "    <tr>\n",
              "      <th>110</th>\n",
              "      <td>9.905429e-01</td>\n",
              "      <td>8.528121e-03</td>\n",
              "      <td>6.604245e-04</td>\n",
              "      <td>1.171132e-04</td>\n",
              "      <td>1.514547e-04</td>\n",
              "      <td>0.0</td>\n",
              "    </tr>\n",
              "  </tbody>\n",
              "</table>\n",
              "<p>111 rows × 6 columns</p>\n",
              "</div>"
            ],
            "text/plain": [
              "     African_Probability  ...  ClassPredInd\n",
              "0           2.653985e-08  ...           4.0\n",
              "1           3.428250e-08  ...           3.0\n",
              "2           3.568520e-04  ...           2.0\n",
              "3           9.999789e-01  ...           0.0\n",
              "4           4.452492e-08  ...           1.0\n",
              "..                   ...  ...           ...\n",
              "106         9.999990e-01  ...           0.0\n",
              "107         9.997505e-01  ...           0.0\n",
              "108         9.999776e-01  ...           0.0\n",
              "109         9.997518e-01  ...           0.0\n",
              "110         9.905429e-01  ...           0.0\n",
              "\n",
              "[111 rows x 6 columns]"
            ]
          },
          "metadata": {},
          "execution_count": 41
        }
      ]
    },
    {
      "cell_type": "code",
      "metadata": {
        "id": "hRAT2uc0ue43"
      },
      "source": [
        "# Concat dependant Ancestory features to dataframe\n",
        "dep_preds = pd.concat([Test_dataset['Ancestry'], df2], axis = 1)"
      ],
      "execution_count": 42,
      "outputs": []
    },
    {
      "cell_type": "code",
      "metadata": {
        "id": "ItsgJBuRue43"
      },
      "source": [
        "# Add new \n",
        "dep_preds['ClassPredName'] = dep_preds['ClassPredInd'].apply(lambda x: Training_Class[int(x)])"
      ],
      "execution_count": 43,
      "outputs": []
    },
    {
      "cell_type": "code",
      "metadata": {
        "colab": {
          "base_uri": "https://localhost:8080/",
          "height": 206
        },
        "id": "anKsZHWxue43",
        "outputId": "14439f99-ab9f-4734-8e6e-29e6a9b5db4c"
      },
      "source": [
        "# Validate Probability predictions dataframe\n",
        "dep_preds.head()"
      ],
      "execution_count": 44,
      "outputs": [
        {
          "output_type": "execute_result",
          "data": {
            "text/html": [
              "<div>\n",
              "<style scoped>\n",
              "    .dataframe tbody tr th:only-of-type {\n",
              "        vertical-align: middle;\n",
              "    }\n",
              "\n",
              "    .dataframe tbody tr th {\n",
              "        vertical-align: top;\n",
              "    }\n",
              "\n",
              "    .dataframe thead th {\n",
              "        text-align: right;\n",
              "    }\n",
              "</style>\n",
              "<table border=\"1\" class=\"dataframe\">\n",
              "  <thead>\n",
              "    <tr style=\"text-align: right;\">\n",
              "      <th></th>\n",
              "      <th>Ancestry</th>\n",
              "      <th>African_Probability</th>\n",
              "      <th>European_Probability</th>\n",
              "      <th>EastAsian_Probability</th>\n",
              "      <th>Oceanian_Probability</th>\n",
              "      <th>NativeAmerican_Probability</th>\n",
              "      <th>ClassPredInd</th>\n",
              "      <th>ClassPredName</th>\n",
              "    </tr>\n",
              "  </thead>\n",
              "  <tbody>\n",
              "    <tr>\n",
              "      <th>0</th>\n",
              "      <td>Unknown</td>\n",
              "      <td>2.653985e-08</td>\n",
              "      <td>4.076232e-07</td>\n",
              "      <td>4.195787e-08</td>\n",
              "      <td>3.585790e-08</td>\n",
              "      <td>9.999995e-01</td>\n",
              "      <td>4.0</td>\n",
              "      <td>NativeAmerican</td>\n",
              "    </tr>\n",
              "    <tr>\n",
              "      <th>1</th>\n",
              "      <td>Unknown</td>\n",
              "      <td>3.428250e-08</td>\n",
              "      <td>3.127784e-05</td>\n",
              "      <td>2.568485e-06</td>\n",
              "      <td>9.999641e-01</td>\n",
              "      <td>2.066692e-06</td>\n",
              "      <td>3.0</td>\n",
              "      <td>Oceanian</td>\n",
              "    </tr>\n",
              "    <tr>\n",
              "      <th>2</th>\n",
              "      <td>Unknown</td>\n",
              "      <td>3.568520e-04</td>\n",
              "      <td>2.094020e-02</td>\n",
              "      <td>9.767064e-01</td>\n",
              "      <td>7.640242e-04</td>\n",
              "      <td>1.232493e-03</td>\n",
              "      <td>2.0</td>\n",
              "      <td>EastAsian</td>\n",
              "    </tr>\n",
              "    <tr>\n",
              "      <th>3</th>\n",
              "      <td>Unknown</td>\n",
              "      <td>9.999789e-01</td>\n",
              "      <td>4.743223e-08</td>\n",
              "      <td>7.266109e-08</td>\n",
              "      <td>9.399326e-08</td>\n",
              "      <td>2.089339e-05</td>\n",
              "      <td>0.0</td>\n",
              "      <td>African</td>\n",
              "    </tr>\n",
              "    <tr>\n",
              "      <th>4</th>\n",
              "      <td>Unknown</td>\n",
              "      <td>4.452492e-08</td>\n",
              "      <td>9.999914e-01</td>\n",
              "      <td>4.315461e-08</td>\n",
              "      <td>7.712259e-06</td>\n",
              "      <td>7.837322e-07</td>\n",
              "      <td>1.0</td>\n",
              "      <td>European</td>\n",
              "    </tr>\n",
              "  </tbody>\n",
              "</table>\n",
              "</div>"
            ],
            "text/plain": [
              "  Ancestry  African_Probability  ...  ClassPredInd   ClassPredName\n",
              "0  Unknown         2.653985e-08  ...           4.0  NativeAmerican\n",
              "1  Unknown         3.428250e-08  ...           3.0        Oceanian\n",
              "2  Unknown         3.568520e-04  ...           2.0       EastAsian\n",
              "3  Unknown         9.999789e-01  ...           0.0         African\n",
              "4  Unknown         4.452492e-08  ...           1.0        European\n",
              "\n",
              "[5 rows x 8 columns]"
            ]
          },
          "metadata": {},
          "execution_count": 44
        }
      ]
    },
    {
      "cell_type": "code",
      "metadata": {
        "id": "32XEV_57ue44"
      },
      "source": [
        "# Slice prediction and set new feature vector column variable\n",
        "prob_1 = dep_preds.loc[:, 'Ancestry':'NativeAmerican_Probability']"
      ],
      "execution_count": 45,
      "outputs": []
    },
    {
      "cell_type": "code",
      "metadata": {
        "id": "XLG5JABPue44"
      },
      "source": [
        "# Unpivot convert dataFrame to long format\n",
        "prob_2 = pd.melt(prob_1, id_vars = ['Ancestry'], var_name = 'Ancestry_Predictions', value_name = 'Probability')"
      ],
      "execution_count": 46,
      "outputs": []
    },
    {
      "cell_type": "code",
      "metadata": {
        "id": "XpWUBAD4ue44"
      },
      "source": [
        "# Test for true probability\n",
        "prob_2['Ancestry_Predictions'] = prob_2['Ancestry_Predictions'].apply(lambda x: x.split('Prob')[0])"
      ],
      "execution_count": 47,
      "outputs": []
    },
    {
      "cell_type": "code",
      "metadata": {
        "colab": {
          "base_uri": "https://localhost:8080/",
          "height": 206
        },
        "id": "SKGdbaDFue44",
        "outputId": "cb1da972-49c8-4c7b-bb46-2298b49e26e1"
      },
      "source": [
        "# Validate dataframe\n",
        "prob_2.head(5)"
      ],
      "execution_count": 48,
      "outputs": [
        {
          "output_type": "execute_result",
          "data": {
            "text/html": [
              "<div>\n",
              "<style scoped>\n",
              "    .dataframe tbody tr th:only-of-type {\n",
              "        vertical-align: middle;\n",
              "    }\n",
              "\n",
              "    .dataframe tbody tr th {\n",
              "        vertical-align: top;\n",
              "    }\n",
              "\n",
              "    .dataframe thead th {\n",
              "        text-align: right;\n",
              "    }\n",
              "</style>\n",
              "<table border=\"1\" class=\"dataframe\">\n",
              "  <thead>\n",
              "    <tr style=\"text-align: right;\">\n",
              "      <th></th>\n",
              "      <th>Ancestry</th>\n",
              "      <th>Ancestry_Predictions</th>\n",
              "      <th>Probability</th>\n",
              "    </tr>\n",
              "  </thead>\n",
              "  <tbody>\n",
              "    <tr>\n",
              "      <th>0</th>\n",
              "      <td>Unknown</td>\n",
              "      <td>African_</td>\n",
              "      <td>2.653985e-08</td>\n",
              "    </tr>\n",
              "    <tr>\n",
              "      <th>1</th>\n",
              "      <td>Unknown</td>\n",
              "      <td>African_</td>\n",
              "      <td>3.428250e-08</td>\n",
              "    </tr>\n",
              "    <tr>\n",
              "      <th>2</th>\n",
              "      <td>Unknown</td>\n",
              "      <td>African_</td>\n",
              "      <td>3.568520e-04</td>\n",
              "    </tr>\n",
              "    <tr>\n",
              "      <th>3</th>\n",
              "      <td>Unknown</td>\n",
              "      <td>African_</td>\n",
              "      <td>9.999789e-01</td>\n",
              "    </tr>\n",
              "    <tr>\n",
              "      <th>4</th>\n",
              "      <td>Unknown</td>\n",
              "      <td>African_</td>\n",
              "      <td>4.452492e-08</td>\n",
              "    </tr>\n",
              "  </tbody>\n",
              "</table>\n",
              "</div>"
            ],
            "text/plain": [
              "  Ancestry Ancestry_Predictions   Probability\n",
              "0  Unknown             African_  2.653985e-08\n",
              "1  Unknown             African_  3.428250e-08\n",
              "2  Unknown             African_  3.568520e-04\n",
              "3  Unknown             African_  9.999789e-01\n",
              "4  Unknown             African_  4.452492e-08"
            ]
          },
          "metadata": {},
          "execution_count": 48
        }
      ]
    },
    {
      "cell_type": "code",
      "metadata": {
        "colab": {
          "base_uri": "https://localhost:8080/",
          "height": 0
        },
        "id": "5vnc8FsRue44",
        "outputId": "1cc68e12-d923-4f87-c9aa-9a6d7ea6c6f1"
      },
      "source": [
        "# Validate dataframe features\n",
        "print('Describe Columns:=', prob_2.columns, '\\n')\n",
        "print('Data Index values:=', prob_2.index, '\\n')\n",
        "print('Describe data:=', prob_2.describe(), '\\n')"
      ],
      "execution_count": 49,
      "outputs": [
        {
          "output_type": "stream",
          "name": "stdout",
          "text": [
            "Describe Columns:= Index(['Ancestry', 'Ancestry_Predictions', 'Probability'], dtype='object') \n",
            "\n",
            "Data Index values:= RangeIndex(start=0, stop=555, step=1) \n",
            "\n",
            "Describe data:=         Probability\n",
            "count  5.550000e+02\n",
            "mean   2.000000e-01\n",
            "std    3.713757e-01\n",
            "min    1.157843e-08\n",
            "25%    2.527892e-05\n",
            "50%    9.045926e-04\n",
            "75%    9.444702e-02\n",
            "max    9.999995e-01 \n",
            "\n"
          ]
        }
      ]
    },
    {
      "cell_type": "code",
      "metadata": {
        "colab": {
          "base_uri": "https://localhost:8080/",
          "height": 560
        },
        "id": "efHFVS3zue44",
        "outputId": "7a91d840-8740-45b0-dcdc-a153e5c02a52"
      },
      "source": [
        "# Plot Probality prediction matrix\n",
        "sns.set(rc = {'figure.figsize':(15,8)})\n",
        "sns.set_theme(style=\"whitegrid\")\n",
        "fig, ax = plt.subplots()\n",
        "sns.barplot(data = prob_2[prob_2['Ancestry'] != 'Unknown'],color = 'r', x = 'Ancestry', y = 'Probability', hue = 'Ancestry_Predictions', palette = 'mako')\n",
        "plt.xlabel('Ancestory Classes')\n",
        "plt.ylabel('Probability')\n",
        "plt.suptitle('Probabilty of Ancestor classes')\n",
        "#plt.savefig(\"Assignment3_Deliverable4.png\")\n",
        "plt.show()"
      ],
      "execution_count": 50,
      "outputs": [
        {
          "output_type": "display_data",
          "data": {
            "image/png": "[encoded data removed]",
            "text/plain": [
              "<Figure size 1080x576 with 1 Axes>"
            ]
          },
          "metadata": {}
        }
      ]
    },
    {
      "cell_type": "markdown",
      "metadata": {
        "id": "3cHf0cSAue44"
      },
      "source": [
        "# **Deliverable 7.5**  <a class=\"anchor\" id=\"Deliverable_6.5\"></a>\n",
        "How do the class label probabilities differ for the Mexican and African American samples when compared to the class label probabilities for the unknown samples? Are these class probabilities telling us something about recent history? Explain why these class probabilities are reasonable with respect to knowledge of recent history?"
      ]
    },
    {
      "cell_type": "markdown",
      "metadata": {
        "id": "mnZWnz6Be_1A"
      },
      "source": [
        "- In comparison to the class label probabilities for the unknown samples, those with unknown ancestry show a probability close to or equal to one while the other classes show a probability close to zero or less than one. African American samples showed similar results. The model assigned high probabilities to the African ancestry class for each of these samples. However, both Native American and European ancestry contribute high probabilities to the Mexican population on average with Native American slightly higher than European. "
      ]
    }
  ]
}