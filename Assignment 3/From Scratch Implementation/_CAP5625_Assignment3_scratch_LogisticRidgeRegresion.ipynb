{
  "nbformat": 4,
  "nbformat_minor": 0,
  "metadata": {
    "colab": {
      "name": "***CAP5625_Assignment3-scratch_LogisticRidgeRegresion.ipynb",
      "private_outputs": true,
      "provenance": [],
      "collapsed_sections": [
        "SWm1kCF3MVe4",
        "MhyAwcZ1JaRE",
        "NrTsyQ9OI5yH"
      ]
    },
    "kernelspec": {
      "name": "python3",
      "display_name": "Python 3"
    },
    "language_info": {
      "name": "python"
    }
  },
  "cells": [
    {
      "cell_type": "markdown",
      "metadata": {
        "id": "pfJYEoZT0uZG"
      },
      "source": [
        "# **Assignment 3  (From Scratch)**"
      ]
    },
    {
      "cell_type": "markdown",
      "metadata": {
        "id": "6MDdIQRsINp7"
      },
      "source": [
        "## **Penalized Logistic Ridge Regression CV with Batch Gradient Decent**"
      ]
    },
    {
      "cell_type": "markdown",
      "metadata": {
        "id": "3Ly0Ym7-0vxC"
      },
      "source": [
        "- **Programmers:**\n",
        "  - Shaun Pritchard\n",
        "  - Ismael A Lopez\n",
        "- **Date:** 11-15-2021\n",
        "- **Assignment:** 3\n",
        "- **Prof:** M.DeGiorgio\n",
        "\n",
        "<hr>\n",
        "\n",
        "### **Overview: Assignment 3**\n",
        "\n",
        "- In this assignment you will still be analyzing human genetic data from 𝑁 = 183 training\n",
        "observations (individuals) sampled across the world. The goal is to fit a model that can predict\n",
        "(classify) an individual’s ancestry from their genetic data that has been projected along 𝑝 = 10\n",
        "top principal components (proportion of variance explained is 0.2416) that we use as features\n",
        "rather than the raw genetic data\n",
        "\n",
        "- Using ridge regression, fit a penalized (regularized) logistic (multinomial) regression with model parameters obtained by batch gradient descent. Based on K = 5 continental ancestries (African, European, East Asian, Oceanian, or Native American), predictions will be made. Ridge regression will permit parameter shrinkage (tuning parameter 𝜆 ≥ 0) to mitigate overfitting. In order to infer the bestfit model parameters on the training dataset, the tuning parameter will be selected using five-fold cross validation. After training, the model will be used to predict new test data points.\n",
        "\n"
      ]
    },
    {
      "cell_type": "markdown",
      "metadata": {
        "id": "PiqGMLpLc9Q0"
      },
      "source": [
        "## **Imports**\n",
        "\n",
        "> Import libaries and data"
      ]
    },
    {
      "cell_type": "code",
      "metadata": {
        "id": "zrea_glVsGcq"
      },
      "source": [
        "#Math libs\n",
        "from math import sqrt\n",
        "from scipy import stats\n",
        "from numpy import median\n",
        "from decimal import *\n",
        "import os\n",
        "# Data Science libs\n",
        "import numpy as np\n",
        "import pandas as pd\n",
        "# Graphics libs\n",
        "import seaborn as sns\n",
        "import matplotlib.pyplot as plt\n",
        "%matplotlib inline\n",
        "#Timers\n",
        "# !pip install pytictoc\n",
        "# from pytictoc import TicToc"
      ],
      "execution_count": null,
      "outputs": []
    },
    {
      "cell_type": "code",
      "metadata": {
        "id": "WKIpf8zQsOvf"
      },
      "source": [
        "# Import training and test datasets\n",
        "train_df = pd.read_csv('TrainingData_N183_p10.csv')\n",
        "test_df = pd.read_csv('TestData_N111_p10.csv')"
      ],
      "execution_count": null,
      "outputs": []
    },
    {
      "cell_type": "code",
      "metadata": {
        "id": "vkRiPmYTsOyV"
      },
      "source": [
        "# Validate traning data import correclty\n",
        "train_df.head(2)"
      ],
      "execution_count": null,
      "outputs": []
    },
    {
      "cell_type": "code",
      "metadata": {
        "id": "EhaMl5Jww--x"
      },
      "source": [
        "# Validate testing data import correclty\n",
        "test_df.head(2)"
      ],
      "execution_count": null,
      "outputs": []
    },
    {
      "cell_type": "markdown",
      "metadata": {
        "id": "Zilt1vK7dCjL"
      },
      "source": [
        "## **Data Pre-Proccessing**\n",
        "\n",
        "- Pre-proccess test and training datasets\n",
        "- Impute categorical variables in features\n",
        "- Validate correct output of test data"
      ]
    },
    {
      "cell_type": "code",
      "metadata": {
        "id": "2BsxTwGww_By"
      },
      "source": [
        "# recode the categories\n",
        "data = train_df['Ancestry'].unique().tolist()\n",
        "num_features = len(data)\n",
        "train_df['Ancestry2'] = train_df['Ancestry'].apply(lambda x: data.index(x))\n"
      ],
      "execution_count": null,
      "outputs": []
    },
    {
      "cell_type": "code",
      "metadata": {
        "id": "Rd2zn_06iE6k"
      },
      "source": [
        "# Validate training data set\n",
        "train_df.head(2)"
      ],
      "execution_count": null,
      "outputs": []
    },
    {
      "cell_type": "code",
      "metadata": {
        "id": "1iZqPZRJslzX"
      },
      "source": [
        "# Shape trianing data\n",
        "train_df.shape"
      ],
      "execution_count": null,
      "outputs": []
    },
    {
      "cell_type": "markdown",
      "metadata": {
        "id": "zbQOjnPQdHV1"
      },
      "source": [
        "## **Seperate X Y Predictors and Responses**\n",
        " - Seperate predictors from responses\n",
        " - Validate correct output"
      ]
    },
    {
      "cell_type": "code",
      "metadata": {
        "id": "X5oyPtPcCJYH"
      },
      "source": [
        "# Seperate dependant categorical feature data for training and test data set for later use\n",
        "Y_train_names = train_df['Ancestry'].tolist()\n",
        "Y_test_names = test_df['Ancestry'].tolist()"
      ],
      "execution_count": null,
      "outputs": []
    },
    {
      "cell_type": "code",
      "metadata": {
        "id": "b2mBPvRSsl2T"
      },
      "source": [
        "# Separate training feature predictors from responses\n",
        "X_train = np.float32(train_df.to_numpy()[:, :-2])\n",
        "Y_train = train_df['Ancestry2'].to_numpy()"
      ],
      "execution_count": null,
      "outputs": []
    },
    {
      "cell_type": "code",
      "metadata": {
        "id": "ggVmpaFeCNj_"
      },
      "source": [
        "# Separate test feature predictors from responses\n",
        "X_test = np.float32(test_df.to_numpy()[:, :-1])"
      ],
      "execution_count": null,
      "outputs": []
    },
    {
      "cell_type": "code",
      "metadata": {
        "id": "z6ROxL2rsl5k"
      },
      "source": [
        "X_train.shape"
      ],
      "execution_count": null,
      "outputs": []
    },
    {
      "cell_type": "code",
      "metadata": {
        "id": "F3LwqliE9U2t"
      },
      "source": [
        ""
      ],
      "execution_count": null,
      "outputs": []
    },
    {
      "cell_type": "markdown",
      "metadata": {
        "id": "gptDjmHtMZLF"
      },
      "source": [
        "## **Set Global Vairibles**\n",
        "- λ = tunning parameters\n",
        "- α = learning rate\n",
        "- k = number of folds\n",
        "- n_itters = nu mber of itterations\n",
        "- X_p = predictor vlaues from training data\n",
        "- Y_p = response values from training data"
      ]
    },
    {
      "cell_type": "code",
      "metadata": {
        "id": "laoOpyhxMZYI"
      },
      "source": [
        "# Set local variables\n",
        "\n",
        "# Tuning Parms\n",
        "λ  =  10 ** np.arange(-4., 4.)\n",
        "\n",
        "# learning rate\n",
        "α =  1e-4\n",
        "\n",
        "# K-folds\n",
        "k = 5\n",
        "\n",
        "\n",
        "# Itterations\n",
        "n_iters = 10000 \n",
        "\n",
        "# Set n x m matrix predictor variable\n",
        "X_p = X_train\n",
        "\n",
        "# Set n vector response variable\n",
        "Y_p  = Y_train"
      ],
      "execution_count": null,
      "outputs": []
    },
    {
      "cell_type": "markdown",
      "metadata": {
        "id": "RP7PyeRRAFu4"
      },
      "source": [
        "## **Instantiate Data**\n",
        "- Handle logic and set variables needed for calculating ridge logistic regression\n",
        "- Handle logic and set variables for batch gradient descent\n",
        "- Handle logic and set variables for cross-validation"
      ]
    },
    {
      "cell_type": "code",
      "metadata": {
        "id": "k6LrrIsMsl8m"
      },
      "source": [
        "# Encode response variable from CV design matrix for cross vlaidation\n",
        "def imputeResponse(response_vector, num_features):\n",
        "   response_vector = np.int64(response_vector)\n",
        "   X1 = response_vector.shape[0]\n",
        "   response_mat = np.zeros([X1, num_features])\n",
        "   response_mat[np.arange(X1), response_vector] = 1\n",
        "   return response_mat"
      ],
      "execution_count": null,
      "outputs": []
    },
    {
      "cell_type": "code",
      "metadata": {
        "id": "blXxLauwCokE"
      },
      "source": [
        "# Method to handle randomization of training data predictors and responses\n",
        "def randomizeData(X_p, Y_p):\n",
        "    data = np.concatenate((X_p, Y_p[:, None]), 1)\n",
        "    np.random.shuffle(data)\n",
        "    return data[:, :-1], data[:, -1]"
      ],
      "execution_count": null,
      "outputs": []
    },
    {
      "cell_type": "code",
      "metadata": {
        "id": "PgxuVTzcAE1Y"
      },
      "source": [
        "# Randomize predictors and responses into new vairables\n",
        "x, y = randomizeData(X_p, Y_p)"
      ],
      "execution_count": null,
      "outputs": []
    },
    {
      "cell_type": "code",
      "metadata": {
        "id": "deEiexERAE4g"
      },
      "source": [
        "# Set Global variable for samples and number of X = N X M features\n",
        "X1 = x.shape[0]\n",
        "X2 = x.shape[1]     "
      ],
      "execution_count": null,
      "outputs": []
    },
    {
      "cell_type": "code",
      "metadata": {
        "id": "REwNEn8UAE7a"
      },
      "source": [
        "# Get number of training feature classes = 5\n",
        "num_features = np.unique(y).size"
      ],
      "execution_count": null,
      "outputs": []
    },
    {
      "cell_type": "code",
      "metadata": {
        "id": "_xKJF_b3AE-S"
      },
      "source": [
        " # Call method imputation method on training response variables\n",
        " y = imputeResponse(y, num_features)      "
      ],
      "execution_count": null,
      "outputs": []
    },
    {
      "cell_type": "code",
      "metadata": {
        "id": "de3RUM4-AFBL"
      },
      "source": [
        "# Store 5 K-fold cross validation results in symetric matrices\n",
        "CV = np.zeros([k, len(λ)])"
      ],
      "execution_count": null,
      "outputs": []
    },
    {
      "cell_type": "code",
      "metadata": {
        "id": "uMzRGRfPBchL"
      },
      "source": [
        "# Number of validation sample index values based on k-folds \n",
        "val_samples = int(np.ceil(X1 / k)) \n",
        "test_i = list(range(0, X1, val_samples))"
      ],
      "execution_count": null,
      "outputs": []
    },
    {
      "cell_type": "code",
      "metadata": {
        "id": "rI3jlasqBckA"
      },
      "source": [
        "# Create a 𝛽 zero matrix to store the trained predictors  \n",
        "𝛽 = np.zeros([k, len(λ), X2 + 1, num_features])"
      ],
      "execution_count": null,
      "outputs": []
    },
    {
      "cell_type": "markdown",
      "metadata": {
        "id": "Y9j4wHxaB0kM"
      },
      "source": [
        "## **Implement logic**\n",
        "- Main functions to handle logic within the preceding algorithms"
      ]
    },
    {
      "cell_type": "code",
      "metadata": {
        "id": "l_9UwIrKAFEA"
      },
      "source": [
        "# Standardize X coefficients\n",
        "def standardize(x, mean_x, std_x):\n",
        "   return (x - mean_x) / std_x "
      ],
      "execution_count": null,
      "outputs": []
    },
    {
      "cell_type": "code",
      "metadata": {
        "id": "wY2E9eu9EoiJ"
      },
      "source": [
        "# Concatenate ones column matrix with X coefficiants\n",
        "def intercept(x):\n",
        "    col = np.ones([x.shape[0], 1])\n",
        "    return np.concatenate((col, x), 1)"
      ],
      "execution_count": null,
      "outputs": []
    },
    {
      "cell_type": "code",
      "metadata": {
        "id": "r9GcygS6C60O"
      },
      "source": [
        "# Predict standardize expotential X values from intercepts\n",
        "def predict(x):\n",
        "  x = standardize(x, mean_x, std_x)\n",
        "  x = intercept(x)\n",
        "\n",
        "  X_p = np.exp(np.matmul(x, 𝛽x))\n",
        "  return X_p / np.sum(X_p, 1)[:, None]"
      ],
      "execution_count": null,
      "outputs": []
    },
    {
      "cell_type": "code",
      "metadata": {
        "id": "ZMSn9nz9D-bG"
      },
      "source": [
        "# Splitting the data into k groups resampling method\n",
        "def cv_folds(i_test):\n",
        "    if i_test + val_samples <= X1:\n",
        "        i_tests = np.arange(i_test, i_test + val_samples)\n",
        "    else:\n",
        "        i_tests = np.arange(i_test, X1)\n",
        "            \n",
        "    x_test = x[i_tests]\n",
        "    x_train = np.delete(x, i_tests, axis = 0)\n",
        "\n",
        "    \n",
        "    y_test = y[i_tests]\n",
        "    y_train = np.delete(y, i_tests, axis = 0)\n",
        "    return x_train, x_test, y_train, y_test"
      ],
      "execution_count": null,
      "outputs": []
    },
    {
      "cell_type": "code",
      "metadata": {
        "id": "Hvp3-5JGD-hG"
      },
      "source": [
        "# Calculate model CV score \n",
        "def score(x, y, 𝛽x):\n",
        "    # Compute exponent values of X coef and BGD unnormilized probality matrix\n",
        "    U = np.exp(np.matmul(x, 𝛽x))\n",
        "    # Calculate sum unnormilized probality / sum unnormilized matrix by 1\n",
        "    P = U / np.sum(U, 1)[:, None]\n",
        "    # Calulate to cost error score\n",
        "    err = -(1 / x.shape[0]) * np.sum(np.sum(y * np.log10(P), 1))\n",
        "    return err"
      ],
      "execution_count": null,
      "outputs": []
    },
    {
      "cell_type": "markdown",
      "metadata": {
        "id": "Yp7Hf8SOdZ_q"
      },
      "source": [
        "## **Batch Gradient Descent**\n",
        "> Alorithm 1 used for this computation\n",
        "\n",
        "![image.png](data:image/png;base64,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)\n"
      ]
    },
    {
      "cell_type": "code",
      "metadata": {
        "id": "d7qfhmq9D-d_"
      },
      "source": [
        "\n",
        "def BGD(x, y, 𝛽x, lamb):\n",
        "    # Unormalized class probability matrix\n",
        "    U = np.exp(np.dot(x, 𝛽x))\n",
        "    # Normalized class probability matrix\n",
        "    P = U / np.sum(U, 1)[:, None]\n",
        "    # K intercept matrix\n",
        "    Z = 𝛽x.copy()\n",
        "    Z[1:] = 0\n",
        "    # Update parameter matrix\n",
        "    𝛽x = 𝛽x + α * (np.matmul(np.transpose(x), y - P) - 2 * lamb * (𝛽x - Z))\n",
        "    return 𝛽x"
      ],
      "execution_count": null,
      "outputs": []
    },
    {
      "cell_type": "code",
      "metadata": {
        "id": "Gjn-W_A0EyeW"
      },
      "source": [
        ""
      ],
      "execution_count": null,
      "outputs": []
    },
    {
      "cell_type": "markdown",
      "metadata": {
        "id": "G-dBXJCDEzHw"
      },
      "source": [
        "## **CV Ridge Penlized Logistic Regression**\n",
        "> - Compute ridge-penalized logistic regression with cross vlaidation\n",
        "- Performing a ridge-penalized logistic regression fit to training data\n",
        "{(𝑥1, 𝑦1), (𝑥2, 𝑦2), … , (𝑥𝑁, 𝑦𝑁)} is to minimize the cost function\n"
      ]
    },
    {
      "cell_type": "markdown",
      "metadata": {
        "id": "RWr3fiZxmtAO"
      },
      "source": [
        "![image.png](data:image/png;base64,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)"
      ]
    },
    {
      "cell_type": "code",
      "metadata": {
        "id": "YvHT3sDUsO05"
      },
      "source": [
        "# Compute ridge-penalized logistic regression with cross vlaidation\n",
        "for i_lambda, lamb in enumerate(λ):\n",
        "    for i_fold, i_test in zip(range(k), test_i):\n",
        "        \n",
        "        # Validates and trains the CV iteration based on the validation and training sets.\n",
        "        x_train, x_test, y_train, y_test = cv_folds(i_test)\n",
        "\n",
        "        # Standardize x and center y  5 K-fold trianing and test data\n",
        "        mean_x, std_x = np.mean(x_train, 0), np.std(x_train, 0)\n",
        "        \n",
        "        # implement standardize X training and test sets\n",
        "        x_train = standardize(x_train, mean_x, std_x)\n",
        "        x_test = standardize(x_test, mean_x, std_x)\n",
        "                \n",
        "        # Add training and test intercept column to the design matrix\n",
        "        x_train = intercept(x_train)\n",
        "        x_test = intercept(x_test)\n",
        "\n",
        "        # initialize Beta coef for lambdas and fold\n",
        "        𝛽x =  np.zeros([X2 + 1, num_features])\n",
        "        \n",
        "        # Loop through beta and lambdas with batch gradient decent\n",
        "        for iter in range(n_iters):\n",
        "            𝛽x = BGD(x_train, y_train, 𝛽x, lamb)\n",
        "\n",
        "        # Score CV cost error tp the model and store the values \n",
        "        CV[i_fold, i_lambda] = score(x_test, y_test, 𝛽x)\n",
        "                \n",
        "        # Save the updated coefficient vectors 𝛽x\n",
        "        𝛽[i_fold, i_lambda] = 𝛽x"
      ],
      "execution_count": null,
      "outputs": []
    },
    {
      "cell_type": "markdown",
      "metadata": {
        "id": "CVu_ngjKMIdU"
      },
      "source": [
        "## **Deliverable 1**\n",
        "> Illustrate the effect of the tuning parameter on the inferred ridge regression\n",
        "coefficients by generating five plots (one for each of the 𝐾 = 5 ancestry classes) of 10 lines\n",
        "(one for each of the 𝑝 = 10 features)"
      ]
    },
    {
      "cell_type": "markdown",
      "metadata": {
        "id": "YIhW5pl2mhUH"
      },
      "source": [
        "![image.png](data:image/png;base64,iVBORw0KGgoAAAANSUhEUgAAAmEAAAB0CAYAAADNceVKAAAgAElEQVR4Ae2dB1AU1x/Hb/cKIO1EwYJix5pEJTFqEiN2jRqxt78xGms0RU0sCNh7j713LNhQoyOa2DXq2EEdRdRRLGMbhYGbu5vvf3Zvj9vrxx3lgB8zN+zt7Wuf93b3+977vd+TgP6IABEgAkSACBABIkAE8pyAJM9TpASJABEgAkSACBABIkAEQCKMGgERIAJEgAgQASJABPKBAImwfIBOSRIBIkAEiAARIAJEgEQYtQEiQASIABEgAkSACOQDARJh+QCdkiQCRIAIEAEiQASIAIkwagNEgAgQASJABIgAEcgHAiTC8gE6JUkEiAARIAJEgAgQARJh1AaIABEgAkSACBABIpAPBEiE5QN0SpIIEAEiQASIABEgAiTCqA0QASJABIgAESACRCAfCJAIywfolCQRIAJEgAgQASJABEiEURso5ARUeH7rHM6cOWP+ORmH8c0qo+3iZGgKOQUqHhEgAkSACLgfARJh7lcnlKOcJKB9hr+aKSCRSKx8FGi+NBXanEyT4iICRIAIEAEi4AABEmEOQKJLCjABQYQxMk/4+PnBz/TjH4ResWkFuICUdSJABIgAESioBEiEFdSao3w7RkAQYfJ60biudiwIXUUEiAARIAJEIC8IkAjLC8qURv4RIBGWf+wpZSJABIgAEbBJgESYTTz0Y4EnQCKswFchFYAIEAEiUFgJkAgrrDVL5dIREIswlQrvU5ORdCsRyS/SyBif2ggRIAJEgAjkKwESYfmKnxLPdQKCCGN9yiAk0BMso1slybCeKF2/KyYffgRVrmeCEiACRIAIEAEiYE6ARJg5EzpTqAio8eT4Avw5ZiqWbY7DgUPx2LNpPn5tXRlejASMIhRDDr6mUbFCVedUGCJABIhAwSBAIqxg1BPlMqcJaJKxvLUSrISBR8OZuEPeWnOaMMVHBIgAESACdgiQCLMDiH4uvARer24LT240zK8bdqQX3nJSyYgAESACRMA9CZAIc896oVzlAYH0Hd3gy4kwZU/sJhGWB8QpCSJABIgAERATIBEmpkHHhYyAFi829UXN6q0w65qpp1Y1bk6qD7mEgXfzv5BC+xYVsrqn4hABIkAE3J8AiTD3ryPKodMEtHi6JBwKCYuSzWfh0jtDRB9vLsf3wVIw3nUx7vRHww90RASIABEgAkQgjwiQCMsj0JRM/hB4E/87GpTzgYxhIC8RigZNm+Hbz6shQCFH8doRmHLsKcgmP3/qhlIlAkSACBR1AiTCinoLKBLlV+HNgys4dXQfdmzeiM2xB/DvjWcgM7AiUflUSCJABIiA2xIgEea2VVNQM5aB5INT0KWmEmV+jEdGQS0G5ZsIEAEiQASIQC4TIBGWy4CLUvRpd/ch+vtQ+LCcV3opQoYlILMoAaCyEgEiQASIABHIBgESYdmARZdaIfAhETvHt0XlYgwkEt22QBKJDFV+OUlbAllBRqeJABEgAkSACJAIozbgPAHtO9zYOhotKniBLRaCxp26IbyKFxheiMlQ7fczJMKcp0shiQARIAJEoJATIBFWyCs494qnxfONnRAg80edHrNwNEVn/fVuQwd+T0ZuJCyURFju4aeYiQARIAJEoMATIBFW4KswHwuQfgMJx5ONjO/Td3aHH8NNSZIIy8eaoaSJABEgAkSgABAgEVYAKqkgZTHHRZj6FmInjcPYsWPd6jNh6T94SV72C1LTpLwSASJABNyOAIkwt6uSgp2hHBdhGXvQJ4AVGfzrDf/z97+8wTQkkZfXgt1YKfdEgAgQgXwmQCIsnyugsCWf4yIMb3H8t9rw5Kc4xcJLitLfDMSfuTpC9gd+HdwLLWqVgNwkfRJhha3lUnmIABEgAnlPgERY3jMv1CnmvAgDkH4ZUxv5gc1yf6ETY2xgO6y4Z7oxdy7g1b7APxO/RnHe/5kubRJhucCZoiQCRIAIFDECJMKKWIXndnFzRYQBUN9djraBptOSLPy/mYlreeERVpOClW2LZwlBEmG53ZIofiJABIhA4SdAIqzw13GeljC3RBigxbOdfRAiEzuElUDCeKHu2NP4kAelTD/xMyrLaCQsD1BTEkSACBCBIkGARFiRqOa8K2TuiTCuDG+R8EsteJjYZzHyahh88BVyfbFi5in8WlXGLxKgkbC8a1OUEhEgAkSgsBIgEVZYazafypW7IoyzD7uEyQ19Ba/8ekN9BtLg7tj6OLdlWBr29CnJT0mSCMunBkbJEgEiQAQKEQESYYWoMt2hKLkuwjj7sDvL0MaCfVjJ1ktxJ1ft9DW4P7sx5BIJSIS5Q2ujPBABIkAECjYBEmEFu/7cLvd5IcI4+7Cnsb0t2If5odHUy0jPRSqq61sQPW4syFlrLkKmqIkAESACRYQAibAiUtF5Vcy8EWEAtG9wbGRNc/swz08w+t/3eVVcSocIEAEiQASIgNMESIQ5jY4CWiKQZyKMSzztP8R8aW4fJq8yEPtf5LZ9mKXS0zkiQASIABEgAo4TIBHmOCu60gECHzd1FLzbS1Hx53+Q2y681El/oXVJU/9hUpTtvAkptK2QAzVGlxABIkAEiEB+ESARll/kC2W6aTjxcxXIeM/2DLzCFyMl1wektHiyvSfKm/oPYwPQfFEiVIWSMxWKCBABIkAECgMBEmGFoRbzrQxavL53ASePxWPn+oWY2L8RyshFzlRZf9Tp8gfmb9iDo6cv4uqd1NzJqfYNjv5cw9w+zKcBYv7LTTP93CkOxUoEiAARIAJFgwCJsKJRz7lUynRs6eRp4rNL77vL/L+04vBcygdnH3YR0Q18TPLCwKP2rzj+NveSpZiJABEgAkSACDhLgESYs+QonNsRUCUtQcsSJvZhjBwVf9iD57k+Lep2OChDRIAIEAEi4OYESIS5eQVR9rJDQIvH23qgnKl9mLQ0vl/3EGSnnx2WdK3bEsi8jA2RYzF2rOETueESMtw2w5QxIkAErBFwUxGWicen1iHqx3ZoWD0YxX0UkEnlUBTzR1D5UHz2VVv0GDIBS4494sulvrYZUeMMDySjh9Oqs3hnWnrNPeydMd7oIaYLMw4TN18zvZq+FyQC2tf4e3h1KEz2l2SV4Zh3y53N9LPX5gtSlVBec5iA+h7iZ49EmypeWdPvHu3Wmj/nLCSb+fgU1kX9iHYNqyO4uA8UMinkimLwDyqP0M++QtseQzBhyTELIQv5Ke0r/Lt0goV3guX3ivgdM37B33hCPbxC3kByr3huJ8K0r89iXtfq8GUZMIrSCOsyEjFzF2Hh7GiM6BKGUlmG3ywC+uzlyaivr8GPDctALn7xMgqEtPwNiw7fNfegrknGvui++KqcR9ZDTCJhIC/TED+sJhGWe80tj2JOu4DoL8ztw7w/j8L5tDzKQzaScabNZyN6utQlApk4PiwEUm7FL+ONztvcZ6FH+rGhqCDV2V7aFWHa1zg7ryuq+7JgGAVKh3XByJi5WLRwNqJHdEFYKXnWs5AN6OMSsYIZ+CNu7oxG9zr+/N6wEokEDFsMJcuVQzmTT3CgL+SMYQGSrPY4/OfO/buCWSFFJtduJcK0Lw5j5KfeYCQMZGVaY9a51zA25dHg+eGR+LQYdwMYRBhfW6rbmNvUcAOxyq7YbjYEZlyvqqsT8Zlc9xBjS7bFsrt0JxkTKrjfVImL0MLMPkyBGj8fxRvjRpWvhXSpzedrzotK4u4rwrSpS9Fc4YAI077A4ZGfwpuRgJGVQetZ5/Da5B7QPOeevcV4IVY0RZiuPatvTkKY8E5gfLthh0XNrcGbiwvwXVkpz4tEWFF5FuROOd1HhGkeYGW7knwvhFHUxu//WNt6Jh1nRteEnDERYQA+HOiPskLPkC3VH/H2jCRerUJrD66Hq0BYzHXk6t7PuVN/FKtVAho83toNwVJDj5Xv3cpC0GfnMxNxbzWS3P0hB9q86xl8iZWtuBFhKYJ/+jvXneu6nt+8jsF9RRg+bEAH7vklkcD6SJgGD1a2Q0lW95yr/fs/sPpkPTMaNeUMirIIQ/oOdPPVPTOsizCuDWrxbFMEAlkJclWEvVyJVh4MJNJg/PR3bru+zut7i9LjCLiJCNPiZWwPlOIeFBIpyvaNw2sb9aNJmoEvFeYiDGkH0L+MsDpO/jXmJtueqFed/g1VZRIwPi2x7LFJ19BG+vRTASGgfY3DQ0PN7cOC2mP1A9ttI/dLmENt3tWMqs7jjxoy/r4jEeYqzDwOn7YJ39sRYdqXsehRSvdMlJbtizjbD1bM+FJRtEVYxh70CdDxsi3CAKQfx7CK0lwVYarzf6CGTEIiLI9vrbxMzj1EmCYJMxsJ/qZkVfHrKWcV/3vs6llCN6fP+KLD+lc2WKpxPbou5BIWyu834iVpMBusCvBPH89j4ufcFLduxIAbNeCmspVNZuG6s80sJ3DkWJt3LTPa1BVo5cX1/GkkzDWS+RA6fbMdEaZB0sxGwjZiMlT99RSNdNqrpoy9joswe3G5/LsWqStawYuzdaaRMJdpumsEbiHCNLen4gvB4F5afgiOufByfL2pE/x5A30WJXvvxgdr5NXXEV1XDglbEj12kDdPa5gKw3nV7YVoLvRudSKMm5ophnrjzuBjPhUwJ9u8oQhpeHLpMLav/Qtzp0RjYsxMLN3+Lx5YLaQaibO/5m2Fsi3CNO9w959YLJ8zGVETozF1/lrsu/jEITcJGc+u4u8tSzF7SjSip87H2gNX8Txb97wWH5LPIG7NfEyLnoiJMTOwaN1enE3+4OQ0swrPr8Vj3fypiI6MRPS0WFy3Z8pggG52lPH0EuI3LMKMmImIjIrBtDl/YX3cv7iZmm4jf9mtO24kxo4I09zG1C8Eg3tpeQxx5cFqVkrdCdXza4hfNx9ToyMRGT0NsVbAaT8k40zcGsyfFo2JE2MwY9E67D2bjA8OdX61SHt0EQc2LsGsyVGIjJqEabMXYOm6nThy4S5eWqsrbRoeXTyAjUtmYXJUJKImTcPsBUuxbucRXLj70nJbzWURpnl1HftXzUZMVDRm/BWLMyk2VgqpEzH7a6ED6bQIc7xtu1ZH5g0k/ck57FoxB1NipmD2sh04/fCjjfZvHr6onHEDEaZF6rKWQm+NQbEO6+GKJNI+W4HW3ro5fWn5wThq5QZVX4vijfLZMj9gv1WlVlSaQWEvpwaPNnc1tw+Th2LoYdPFH3nBIifbvBbvbu/DnGHfoV6wN6RyHwSWKQWlByuM/jHwKN8ei64aWxhnPPwHq8a2Q2VPY5u5LJEq7P+p7LXbZHWxGk/+noTvq/tByjCQehVHUKCfbrUY44HgpqOxJ9nyAhft20tYMbABSikYSBgWHv6BCFR6Qipe1SwasZRV/Q2nTaJSpRzCpIiaUEoZMIwMxYqXgL9CV1ZGqkTNzlOR8Mx8qvnttp4IylpZLYGEH3FXQZOagCkdq8KHFXHwaI2Vr4C3W7uhhDiMNATDjltXi9o3F7Hsxy90K7i5vAUEQumlM97muDJMMXw57aaogTlXd1kR2BFh2tRlaCnUL1OsA9Y782B9uw09gwwrJyUS3YiaSpOKhCkdUdVH3864EWYPtObAif9UKTg0KQI1lVIwDANZseIo4a8Ay9U5I4WyZmdMTXhm1YefJvU4pnWuDaWMAcMq4BdUGkH+HrrwQhv17rJdnCIADVKPT0Pn2krIGAaswg9BpYPgn3VPcGl7o8t243uCj8SuCNMg5eAcjI/ciCsmbZMP/3YrupUw4fXbaXC8TszqgU8DZEaj8ox3KPpsvGdij5yBh/+swth2lYX3ongUX3TMKNFrdzqcadtGwJysI/XlGIR5i+tfgebLnkObloTY379FMHefi+5nRhGMZlHHjBxnv9/ejb+Xxddxngo8ggdgn6h6PsR2R3ET+16uI91wuvh+MipVgfniBiIsE0d+CtYtAZfIEDrqrGubLmseYsG3gusJWXWMOW/pTlHjSuSnkEukCBl81OQlUxDqToUrGyOd8mkj9m+jOx6P6XF3rT4ECwINh/KofYVDQ0KN3Zhwq3DL9cT2Jw51xx1KxrGLcqrNq3BxamOU5IQC44nQ3itx6ZVueYn2433sG/UllLydJQOvhjNwO2vliRYvD8agb8+e6NmhPm9czD34ilULR3fuXNanFwYuuSi6H9V4sLknKikYMPIQtJ95DI/4B6UGr87PRbsynOBg4FHrN5ww7dhkXsecpsV5UwG2eCOM2nMXH3nsH3Fv7xg01tvheNdBp+E/Y+igAfhxzBbcEekp9b116FKBe8GxUIYNxYbLL3Uvr8zHOD6nM6rxgoOBZ+hP2JtqXqeZT+IxtKbwgpSHIebINvxYIxBVm/fDiBH9EF5R8LsliDCuLjNS9mJQDSGMDRHGrXL95TPOLQoL//qDsP7ya909lXYfccPrCaONcnwSeVloIs7WnaiF2RFhmUd+QrCwUEkWOgpnLT0KRdFZPcx8gvih3GIoTgDIERZzBNt+rIHAqs3Rb8QI9AuvqJsyMxVh6ntY16UCH45VhmHohst4ybfBTDw+Pgedq+lMUBjPUPy0N9V8lCTtHCbU50aCWBRvNAZ77gojndo0PDgUhfAgXXvz7rzNKOtp5yagPtcRZ4uj0Zg9uCsMt2nTHuBQVDiCuJe5NXcj9kSYJhnzm3iA8eiIjdZGmDNSsHdQjSxeX0QfxPo+oVCW/xp9Rk3BvPmTMbxVZYGZBKyyLVaJbZK1L3Ewpi9/H3aoHyiY1xRDtfDuonuzJ3r2GoglF3WV6kzb5qG5WEfat5cxt5VuQZ2EUaLn2qOIaRKE4jW/w7DoOVi4YDpG9/rc4FqKVeLbOTdEzxQNUuOHoia3+IAXbFIEd9+MFLO2qsX7awvQJlCw15NVQI9N9yyPZhq1Bvf/4gYi7BVWttb765Kj8ewHLgoCDZKmNci6AcIm3zLpZQBQX8aEOnKhN2y9Z+u+1fcRGzt6GPUyjHsSot6SqCdi+ZoiZAv08Rwiw8ztwwK/W4W8tdPPqTafgf39uIc0A3mtMTgr6jnqHrBXEfWZXNdO5I0x+75I0QiNW3NnBr7kl+TbbweaOwsRrmT51cSf/HEWxhMpWrzYFIEAfhWeFxrNTBTdx1qkru+oE4SMF76Ze0/0G5cRDe4vCocvPzrij1bLU0x+5+7Z25jzjS8/isCWisBG8UuLL4sKt2Z9DR9eKEgR3Gc3XpnpMBXOjgqFjLsn2OIoG1wBreZdzjJZ0Dxche84tyYiEQaIwlgTYdon2NylNN+RZIM6YYNp3jJO4/fq3OIHsQhzve7sTUe+Wtk6a1N7eePZLrVx1dlRCOUMxDlBVDYYFVrNw2W90NY8xKrvOFtc8UiYGrfnfKOrU7YUIjY+NhNZqluz8LWP7uUrDe6D3SYV9npzBJRcfcpCMfqc6VtZi+fbu6OMlIGxCHuNzRFKvp3IQkfDPNhzbO9eBlInRJg28xWure2Fylynx5YIAyDm5e2vRNnwKTglLp8mGSt5ZtyonCeaL31qxoe7L+7M+BJyrr3anY4UtVOH27brdcTdem/Xt9cJSkYOf2UJ1PhhK+4ZzUCpcH9thMFzQYkIbH4hvjnfYHfv0jqxKZHj63lWdjfRPsGicAXfBgM7b4aFfpbwVCtY//JfhGnuYWZD4UUhEYYzXWSovjoRn/IvFgYeTRciRVzf3PP8v3GoLZNAVmsshI6EiynmdXAaCXOWuOrWAjQrrutN6UUpG9gP+40eGs7G7mC4HGvzaiTunIJxY8dj7kELwgWZ+OfnSrpRZmk5izZBjouwDzg4QDdizfi2wcqnJjcVV/QPseim5F6qDOT1Y3Aja+TtA7Z39ddNw8i/wLREczGofboE4fz0BQOP8CUwHZx8v68fyvCjOjLUGisenRMx/3AA/ctKedHJeDXBfDNlrcaN6Hq6l5qEBfcgf2ahGKIYuaeFIYwVEZZx+jeE8ltlyVDzzwuiXr4+Jg3uxk3H+LETsPDoU+Gk63VnW4RpcG9mQ6GsEiiaLzOaBtLnzNH/6hvRqKf3qRjYGZvtgXu/D/3K6OrC+nP2Aw70Lys4wvVCk/niDrgK58fU0Alm+WeIupbVmAxZVt1C7ORxiNpyXXTuPMbwq30lkH8WBcvBYjF5XBS2XLcQp2gkTP98sPjfjggT85IG98YuCyu/3sd2E0aqpagw/ISFRRPZEWGidupo23a5jnTYM/b21XW+JAwU9aNw2dK4huYu5nwtjDQzPmi3+rmhzjjzxoRhqMjf3yzK/BhveXYqIwFDQ6Rg5LXw5wVLiRhFWWC+5L8IU9/EpPp6EeaBVqY2Bc6gVJ3FqFCu58m5n2iPtUY3gAoX/6wJGSNHvWjyDeYM3oIdRoOUTV2M7MOkwYNxNC/v6dxo8xYrRYN7sxrpXsRsCfTda640HRZhH/egjzAVIP9qjuVRFc0dTG+gu5cZrzZY/VLIlOYB5nwl3OMerbHKkpuEjL3oK0xJykJ/xxmjgY+PiOstTHlIK2HEv9Yqi7tOvzraC62Wm05xqXFzUpiOB6NE9x3W5pPEMEVhLIqwDBwZJJhTyKrgl5NGGRdHlM1j+3VnW4Rx+a6fJcI8Wq2EibVWtvJjcGLKQNl9h90FLR/jeut8k0mkqDTiXwsCQ5c8d10J/ZR5q+Wi0Q0NEqd+LtSVHNUG7MVTc+1uXgZNIqZ+LrRBeTUM2PvUfFTVPJThjEiEMZ6fY/CS5Vi+XPgsmYlfW1XQubyxJ8KynL6yKNFnj0VRwQ0W6JyFc+6W9liYWsueCMtu23a9jnTYMvb3E0wa5Kgbfc185om/TNwpYFGqf7yBOXekOoPfhXe2tNwg/G06qg8g7cgghHAjn+GLYMf7lHHcbv4t/0WYJgnThAe3RKJA+GJLw7LZpZiJhKHCViNsCfTcpR835ypb5xeJ8WiIGWKDk+wmUYSvt9gztDvtaT5Fmm8I3/+NQRV1vXQJWwod1oh74HmQq1xp85byrUXqX82gEKbfesc5L8JU50ZnTUcF9ttv4YXBpf8eGzsKvV3xFJL2Gf5qxk0jSCCRf4U5ZiNUAD5uQ2fBSaa8zgRcFg9SqC4IvswkYDxaYoXRVIa43Brcn91YEB5SVBh23OTlbyyohiZYE3PiOI3DmBnmc6YNnwgvfc92WPtGHNaVY/t1Z1uECWYZwn2pCF8MS4OXjubQIMKkCBmaYMLVNBYVLvwhjGIxHmi54oWFqTZdGM392WgsjLBJKwyDeN2DJnEOvhHaBOdQO7jpCKw8/dRO2hok6qdBuU64IhhNR6zE6aeO1DVnBGjHRcXHBAyrLLU7HWnEy6wdCmV/oC87A7/uOy0INSdFmDQE9tt2ztQRVxKxCPvG2lQid93hgSjDC24JFN8uNGk0alwaX0d370qDMfCQsbED8Brbu5UEy5ZCr105dpOZ5CF/vua/CNOmGh7QnNGnJRsuJ9ikHeiP0nyF62xd9K8f3cuEgVfThQ6p6YyUBCwe0R5h306ERRt/O3nTPFiM7+u2wMAZ+5Ak0oJ2grn1zwVahAkOXHkjY0aGCv/bLep95xH2XGrzfO4zX+PB5RPYv20Nlsydhj/bV8mygXJFhKVt6yzYW5mLaYvtgS2NAQez7jojW6zOW82HwjJP/4Zqgs1RYJ89WXZafJnSd6K7n852iFH2xG4LvWR9zX3cEoFivF0YA58u201ebHYElT4So/92wqTvQg9/Xd4c2qXDKG6TL9msO9siTCTiJBLIwybjlljYmiRt76sjosIQRzp2dvfTTT9zxtq2KwwR/DZ03KxFFxgvWFQjOXYg6viKzAcYL5T7+kfMOnDX+micOhmxA+vAV3jhc+2T8SqHr3+chQN37Yx+2hNhyMTJsZ8jpMoAm+3QEV7ap4sRzm87lfMizKyzYKgc4Sin6shxEab3SMDVBzdVbPqnvjkZYfxqZBZlfthvVL/aR0vRwoeBrPoonHVQT5vG767f81+EIR17egcIRnlSlB9yzE5Px0GU73egR9b0hn5lkGC8yPig9Qp7I25puLW+Pz5RBqDeDwtxPMXw5Fc9v4VzZ87gjNnnJOLGN0PltotFAk+FFxfX45cmZeFXJQLzz7+12it0sGT5fpnFl26BGAnT4sm2HijH2+9wq/hGIsGZZfsu10AOt3nNK1zZPhkDW3+Gst6CKwAvJYLKBiM4QHCCzBaHKyLs9eo28ODrWIqQ76OxVD9FY+3/inVIEM0ZqG/Pwle8ETYDj09+wTGxkXLGLSxqqZtGZDw/xbhzevEmgH6/Hu0Fz/D27Pcy9vRGcWF6y7PTZpPFA3YElcV6tRNGlDenprVdqDvbIgxI39NbsNWRwFX/i46ICgO+91jfXlg4xAainy2Dy4w96C3YaDKenbDZdACEGyRNikN0l08RIHYXwngipMV47H9obfr3I5LiotHl0wBhkZau88B4hqDF+P2wGsyuCDOU0taRI7wMe3/mhwjLuTpydCTMYPoggbzOeHN8mruY1Vi3SI8t1Rd7svbXUuPm5DAomGL4Zp7poh7zaAraGTcQYWrcmizYaXDL25svzaGRiVfY0FHojcnrY9JNNaA6jd+qycAov8cGq1MaXBWqkLSyA8oqyqLd4mtGipzfM0w/xWNFeCgslUGVjNh+ofAs/jWmXrDTG7Pbisgw3y4iCxeo7y5Dm5LCEmefLxB90cIT30K4nD+Vc21e8/gARjUO5P0heVVsgZGL9uD8/TeCcbgWqUub58h05PsNHQSfRXLUHn/Jit2HLVIq3NvUB6H8qAfnB+hLdBn0G0aN7IfWNZS8rzDWtxb6rU80n+pM24xOvFd/CRjfrog19IfMEkzf0U23Ik9iyc7GjqAyi407YSdM2pasvLFBP+CAiX60GKVw0tW6syfC1Le4kQVBfHg0x1IXlpM5IioMZU3D5k56I2xfdLVdYVl7NXJ7Vu6xyk+L93fiMXdQU4QIbYFfAFKxN7Y9smEspn2PO/FzMahpSJZLCAkjR8Xe22AxWJERYTlXR46KMJcjE8sAAB/LSURBVEMbkkD++VRDc8k60iBlcbhuJJsNRK9d73S/ZJ7i39tsyW7YJu68ZYUr2AduIMKAzGNDUF6/8XZQP+zLkXejFk+Xt9RVKOOBJvMfIv3UL6gqY1GieyxszSpnXp2CL33kqPLTIbw2Wz2lxTNOhDEyePr4wc/P9OOPoF6xJj1woZGk/4eJYV6Qh45AgtC+nGs+5KIi29wyrmBqYz/diCsbgOYLb1tYxZbtWJ0OkCNtXnUVU77kfFMxUNQchr+NFqBwWcuOCGNR6sd4cwEklDDj0ABhep+77qDV62wByby7Df1rBqBaeCe0afQJqlWqiMqhtRHWtBMGRq7CiYdW1FXmEQwKFmz4FE0w33S5c1aiwr3Jd47kqGMmFu0Iqqx4xAd2wmQewU9C3hjPtlhjPtMqjsxwnAN1Z0+EIfMYhpTX2z4GoZ8LD1bDC1SKECs2TobCZRoWK0gUaDI/xerov/bZX2jGT8npRkcuOTBlmn4vDr831Pmc43Z6CBly1JC01aN03Iv7HQ31K6OlIRhy1EJ7y5YIU+Hm9hiMi94qWgmsy4AjvLI1EsaWwo/xVhWq/c6CGZecqyOxCPtqjnX7WtWpX1CFNzlg4NVhg1mOuBPaZ6vQhrcDZFGiWyzvuJ1fGc3KUO2Xk049dywm5EYn3UKE4eNBDNA/ZKXl8NPftlWYJmm65Q28TcBqkufhG94JHAOfdsuwe0RlSNnS6LfPhnGW9hFWtlWC9W2F5ab+fvj4hQe9vB6iLS1xNsmD6dd3e/uhrNQTn092ZWUmjYSZcrX9/T3+Hf2pMJIjRZmIjUix0Xm2HVcO/ZoDbT7jb8EZJ+OB8CVPLLzoNHg472udsau16ch7s9BIcOfi222HiQ2Voayah/PwjeABm+vFWvAyYbjYwpEmZQu6hyhQsv2a7LPXPsbicMGXIFsa/eMtvDz5NMULcgLRd6/pc8SOoLKQb7sjYdpHWPCtQmf/ZHPlpnHkOVF3dkUYPma5FeHESrmf/rbcOdRnTZOE6VY28HZEVOij4cT/48Xhgo8yFqX7W3E5ACAzYShCBNcEgX332s6fIQHobYR4+6KwyaJfbB1q8WhpC8G2UWd/bHZ1dkSYsAqfDTQfAXWElyMiLGt1M+OLbjustXuuFNlt2zlXR2IRZsum+9XadoK9phyfTbxqhp4/oX2JjZ2UfGeZLd4FW189w7oOSrCejTAzyfZDO/3RBRzYvg3x116JVsRq8e7+GRzYvgW7jifirTgK1XNcT4jD1q37ceGJLYFrOas5ddY9RBgycXFsHWHunkVAx/U2VvKocJnzds9w0w17bXMQLVdm/aohtKwU0vKDcMRGW1Zf4/zhcCp8u5XRMtdEGDL+xcgqMkhDBuOI6TvCdmnoV6cIaPFi/0BU4e1JGMgrD8A+m1PRTiXiRCBX27wWTxaH66YaGT90t/SA1j7BqraCfy7OQHqXecPXPl+G5vqRiEazcE/8kBKXittrtZ7Oczwj/wyRl63Z4gDa10lITBVHlIFjQ8pDyjkrnXDZialMDRKnN9C5BpBIUWHIUcsv68yzGM07RZWALdMP+7JsSvQFUeO63k+YNBiDjjhi4SsOUw6DzXyZCL/ziwFkqDLiHytCVou39+7iOY8lZ+oOHzagg2Ar59FmNSwNwmVeHIs6gi0VG9AR620skVRdjsSncgbctKDpn/q63k+YFMGDjti129UkTkcDQbRLKwzBUYvPukycHV1dWDhSBv3EFaZJQfyc8Ziw/BTemM1GcBYjhhWz8gbTsrKrSYnHnPETsPzUGwudEi7YH6jBj8bI0WBaUla4rIP03ejF+7rjpr67wdJtpb8288zv/IphaaUR+MekKYl5lRt81CIvsWG+b9dYC+1Gi+fLBHMCiRyNZtmyhxK3U8fatst1JIAwiDAWZQcetjJa9Q67egne/2U18McF68+Ptzt66NybsEp0nByJr7xYBERsgtXHtvoxDke2QDnB6z7jFYYYbnl1xh1sHvw5AvW2hIwCVQfF47VWi1enpqNDFZ+s7a9YZRPMMTg21Fdxnvx3ExEGaF8dwMBKwkNeWh49tj0SqVkDC03yKnzH2/U4IMKgxuUJnwhL1jnbCBmq/HLS4g2hS0H/QPVGuzXWllW7KMKQjoMDyoCVlsOgI/mnvg1EC/eRJmUjOusdeHp+glH/uDQPnKOwXG3z77dECPZPMlT//bTJQzwDSas6IZjbc48TCAzng0/vuEtUjEydA0TdCrIvMfWG6OGY+Qg3br8SXmYaPFzWKmsbJN+wMUiwMP359soa9K/jC7+mC3BXr8NEq0FZn6po1nc4fv9jrNG2W+PGTUDUlLlYtessLO1prH22ERGCPR+rbIaFd0znrTRIWdtR56+I8UajGTcsiD0VTv4irBZl/NBluyO2mZn4d4Tg8JZV8nv1iejxh5rkv9BCv3qzWD2MOq5npr8yAw/iRuJzpRKtl6fwJ3Oi7jTJc/G1YPMl/2quaDGQPl1ufucVDgyspOvgMlKU72HFFkqTjFXf6XyxWRJhqpOGqSS/LttN7GRF6ekPtc+wMULw7cYq0WzhHbP60KSsRUfe9xwD70YzjKf0OPvdqjIw3o0x07Dflj524N0O9OB2N5BIUXbgoazzqtO/oaqMgXfjmaJturJ+xrsdPXR+yaRlMfCQeacEb9agnX6/TVsiTH0XS1vrFpOYuVThRvj++RmV+BE+Bsoeu0zuTV1+DEKNgVURnTVSyMDry6kwvj1v4HaWjZQTbdvVOhKwGkSYBNIKA3HIwmIndeJcNBGmGZUtl1puq/pq+rAfP5Th6paBXCEHI62E4cctqnhA+wbxg0NRuuGv2H75FtZ3DQLLubqa/y+Wd6qDxkNX4+Sd+zgzLRz+LLdFVE+sP/wHvqgWjjGbzuHO7d34ifdP5mwHUZ9p5/+7jQjjivDhwgyEB+o2vGW8QtF55iHcfSc8ybVpSDm+AD1r6LedcUSEcbb4+qXv3PYXNfGnDQUObSqWtfAEI/8EE4wcFYkBi0WYCqr3qUhOuoXE5BdIs9RjEwflj/VLx+X4LOqq2YPJ7HI64TwB1W0sbC6svGX80GjKZYsPQ+cTcD2kK21em7oREfyLSAJGXh4tRy3G1n0HELdpAcZEfIJSFTtg3qYxqMu/qFkow2fhmtlMfBqODa0o7N3KwKNiCwyfMh9zY35B57olUPzbeYaXmSoRS9uUEjbcZqAo2wA9fpuM+UsWY+7UsRjYvi6/Obc8uC3mXhQPQ6lxbWoDYf9Eey4uuHibIvLoc5ORDA0ebumBCsKIpnfNvlh6NlXXodK8xtUNg1DPj9tSSY7gDiuQKNKS+lpSPz2An0KFfSAlLILaL0OShfew/nruv/rpPgzkFvMIK0PLdd+EZJNRDyAT1+c2FVZlcu4QKiJ8wATMXrwE86eOQb/wqvBjpQgMn4ZzQh/A9bp7j0tTvhZEOOfe4StM+k/MXFSKDxcwIzxQV2+MF0I7z8Shu++ETq4WaSnHsaBnjaz6MRNh6qc48JNh31U2qD2W2QPHbUb1cAt68Ht9SsB410TfpWeRyrPT4PXVDRhUj7PRZCAP7oAVphUmiDDuRexdux9WnHuW1XnOeHoGf3Wvyo+MMr6NMO2qobJ1Iky3QXftfitw7pm+sjLw9Mxf6F6Vmzpm4NtoGkTBBFgfcG1uy6wVpWbOWvmVwMuwZG40hrSolGXoL28409Dh4GLSPMO+AYLYl0ggLRuBNcb7+ACal/hnVN2sbaXYEq2x4IaFTkHaMQzV+zRkPFCxxXBMmT8XMb90Rt0SxfHtvNt83p1p23xWXakjgZpYhPH3X8so7L8j7PMJFZ6fX4H/1eLe2wxkZTti1V3TDpQQUda/dBwdLPj55BbrfT4F3Lo6a3/p968h8R338s3AoQGlwTJyVKodhvDoc9DfEVmOcaUBKFWrA5be0g+ApGNbRDEwObFvtbUM2jnvViKMy2vG/T2I7FgDSsGNACP3RWCZsgj0lWcNHUoYKYoFhaL5lLN2isdFqDdOZSCvG21xG4usSFQnMbKyFIxHO6y1oOZ11wkijPVBmZBAeLI6H0EShoVn6froOvkwHhmeCVlRiw8yDnFO6xj4dbViwC++uBAca9+ewcqJM7HPwt6FuVe8NFyM/kKw/2BRsvVSmA2e5F7i2YrZ+TavweO4YainZAWRIKyEY30RGjEFRx6roDqvn37hfmMgL9kJ60y2nNE+P4hf6/kb7i/OrxLrj9q9FuOC6VzQxxvYMKQRSgtTTWJ3JYy8BD7rPgPHnlh4YmoeIfZ/VaBgGCi8/VBMIQPLCPeOhVXG0jJ9EGe2eiYTyfvGoXVlb11eGRm8igeihLccDMOA9a2GduP34r7++SqqBc29hQj3N+bE8VAEtsSCRAv55d6lSfPR1DQMw8Kr0nD8rX+369PQvsG5Bd1Ry1/XiTRwYcD6VEarP3fhrpHgc6HutI+xqn0AZPwUqEHUMvKS6LDqkYl4FTKYcR97IjuihlInKBlGDt/AMigb6Au5/hkmYSAtFoTQ5lP0pQI097Aw3Lht8KOmikC0XJBotxOZmbwP41pXhjefBgOZV3EElvCGnGHAsL6o1m489lqqMPUVTPuKcy+hf75K4akshTIlhfwyLHyrdUDM0WdGMybqK9PwVQDXHoR7QeoJZakyKCm8P/g0O8Tg6DP9MK1QVE0KVrQzZ2qoRwNn03NGq+E1SZgfrlvtK76O8ayAYfpGo32C1d9ZuEYehK6bXhjY80daPD/4K+oZtUMGrH9t9Fp8gZ+qdaZtixNxuo6ESAwijIVfqVJ8XevaV1mUDiima6eMJ8o3/RXbHRDvXLSZJ7lFdNwer0p0WGe684U496LjrO3gGPh9Ow9Jotta987V7cHZa4eog6e5j1mN5JAwxdBurSt7Sojykc1DtxNhuvxr8THlPA5sWIyZkyZiwoSJiJ40FbMXrcTGXUfxX/LbbKxsy8CVjVH8/npz4q1sDKqHJjhetOcQUv3kOBb8OQZTl21G3IFDiN+zCfN/bY3K3NJpRoHQIQctrKrUJ2LY3JXzYm26R57hqgJw9OE81kQaTyuNHWv6fRQGNC0HuawGxjjj7dZJDG+PjURNYVGGNLgbtlpcZOFk5LkSzPk2r351HQfWzMWU6EmYtWQzjia9NXoxOZTdzKe4uGsZZsZEY/Kc1dh/7aXNF2zG00uI37gYM2ImIjJ6Kuav2YNzKRZ68lzi2pc4Ed0UpeVSlG6zAFfMRuMATfor3Dm+BH1rcb1S7uFbAn32GKkWQzHUb5B0IhYr5kzGxAmRiJ62AGviTuP+e5MXqyFEnh1p3iQiYcsSgct0LNpy3DCabyEXOVJ3FuK1dkr7MQXnD2zA4pmTMHHCBEyMnoSpsxdh5cZdOPpfMt7a6UBai9f2eTXeJJ1A7Io5mDxxAiKjp2HBmjicvv/eTjvVIu3ZdZzYsxlrli7AzMlRmBg1CTMWrkXcqXvQT5KYpa1Nw7PrJ7Bn8xosXTATk6MmImrSDCxcG4dT9/QjgGah3PpE5tOL2LVsJmKiJ2PO6v249lKkMHIk587Wkamz1gd4c/8M9qxbpLsHJsZg5l9bcOT6i2y8sznncLvRuwQLacgg/G3lsWJW7HdbEMGZBUgrYViCePpSvwUYA89GM2Fk3/9hJ3pwK2adXGhnlgcnTripCHOiJDkRJH0LIrwYZNffjy5pDZKXt+ZtZrgtkWba2BJJfWk86sglkDeejTwdHMoJRqI4DKt7rPcSs3qD8gaYZtT6RRHl8KE2dTf+V0Ho8curYfBBUxudHE6QorNBQIvULV0QxHKGzq2xwk6v4+O+fijFO1v1QNvVZkNhNtKhn4gAEcgPAoaRMDlsbVvkeN7USJzbBL6sB8Ky4UUg88RwfhNwacXhOGE0Uv0Bsd2UYBgPNF1kPFKsOjkSlaUSSIMHIb9MtEmEiVuGfiTMvzt2WumEiy83O369Gm05o07Gz+ZyYr3dgiJ8UYEeCcuWCFO0wLLnDhnNmWHN1gnNA6zpUErnD4zxQt2xp423wMlWZHSx6wTSENvVlx/dktX8ExftjLRkGYA7vHrR9RxSDESACDhPIKdFmPruX2gZwEJa7gfsc7gfpkHS9AaQSxj4RWyB0fIrwUm7xGxVpho3+NXSDHy/32jFG4LzXBwNSSJMTCrzX8EmrBVWOjM9nL5D5/3Zzn5pGQd+QGAhsAnLEmGKpph5+S7u3rXxufcMH3Jdg2Xi+uwmwgo+Fv7fzMQ1ox6RuLLpOG8IZCC+P7diSQLGz5rvPX1O3iJheCjv/V9e/XecsmDbpb+S/hMBIuAeBDLi9FuFcW407tuZYjbOs/rqCgzpMwTLLutuds2LBPzxuR9YNggd16ZkI6432NCRc1wtx5fT7xiF0zyYg6/kEjDKbogVm0Jon2Fpc25bN3vuP4zznNPfSISJifKV4gGGW0VppcuufbEJfWtWR6tZ18xsZjgHffW5yvZujr9sePV+vLApFBI5Pp14xSwOcXbc/ThLhHm0xRqrCxnyrhQfz45HfWEzYDboO6y8n9N2E3lXlsKU0seTo1GHX/bPQlmvP+YfuIZn6WJFnomXNw9i4cAwBLAM2OKNEX3KqC9bmHBQWYhAISKg25XDg18IIUXF4SeyVrE6UsiM+B9RiuW2MfsC7SPaoF5pblGFHBV7WXGlYi3SzKMYXE4KibQ8hhwz7nm/2xIBP0YCbhWrkR9Ezj0Pt6OENAS6Dc+1eHXtP5guZLWWZE6dJxFmRFKNa1GfQc54ocWyZxZXGWmfLuF3vmdLNsesS6IXxcebWP59MKSMN+qOO23Dj04a9vYNBCsNxsC/C3ZX351EmPbVYQwR3A8wshD03mG5/oyqm77kEQE1nhyZim71ggSHqxIw3Kq1wDIIDi5rWLkmD0Cd78djZ6Kjlrh5lH1KhggQAXMC2g9I/mcp+tTgRpOE1ag+tdAtZgPOPnVskYxOhIlsilk/1PlhPW5l0xxIv0MB490e64y8Fmfi+DDO3YUU5YccMxaIGfHoX4qFRFoWvbcm4tLmYQgrXRu/JegdW5gXOTfOkAgzoaq+wnmNZqGM2AyLM5Jv4vF7g3Lw4ZxgyksgtEFTNPv2c1QLUEBevDYiphyDzfaXfgxDK0ghDR6IQ+IFHCb5KAhf3UaEaZ9gW49ywlJoBWr8fMSyl+2CALVQ51GFN3fPIn7baiyZMw2ToiP5lc8xMxZg9Y4E3HhesDslhbrqqHBEwJRA2kWss7g6PhIbr9gx/hTi0jw9hQ3zpyE6MhIxs1ZgzyXB959pWja/a/FydVt+SyR5/Rhjp7+aREz7gnNB4YW2q18aD6xoX2Fv/xBhpx4GnhXaIOaYscsTm8nm0I8kwkxBah5iaUt/sD7NsOShdTWvevMAV04dxb4dm7FxcywO/HsDzxxQ72929kSQVIF6UVeyt2TXNJ9u8N09RJgad5e10W1zwTl2DIvEORpIcYPWQVkgAkSACLg5AVUqrsTHIvbgf8iv7SNJhFloIxn/RSHMS4by/9sDs51ZLFzv8KmPpzG6tgLyqkNw2A1sqBzOt5UL3UGEZVyZisacp3QJtyVFOObddKwHZqVIdJoIEAEiQASIQJ4RIBFmEXUmbi1pg1LyILSYe9mGfZfFwJZPZt7Dhu4VoVA2RPSZvJ1ztpwh18+KRdjKh/dw9sBmrFw8G1OjoxAzfSHW7b+Ax7k55fr+X4z+RLBHkJbG9+uSjVbFuF5CioEIEAEiQASIQO4RIBFmle1HXF/dF7X8lfik73wcfeDsHFcmnp5ZhWENA+FTqQNmnXltPC9tNX33/0H7fDlacF7pGQU8FEyWcWaWg1Z+m5z66LvwLLL2mc2pYmlf8PuzyfnNqeWo+MMe5IUbMmjuYPqXckgkLEoPOASyYsqpCqV4iAARIAJFjwCJMDt1np58BAuGtUP9ZpNwyQmPB5qUpYj4tBl+nBaH24VjAExELBOPji3En6MmY+m2gzj533XcTryJSyf3YWVkd9QNEPbRY3xQb3RCDhrLa5CyMQJlpdyqGgYetX/DcdFCVVEGc/4wPQ69A7jpTxlCR58r8HZ9OQ+IYiQCRIAIEAFHCZAIc5QUXZdtAmnXZiOc25eLc9Qpr4oRJ5wdTTROWnV7IZrzQojbCudLxPznwIoI4yic/qbfckoikeOLaYk0/ek0SQpIBIgAESACJMKoDeQiARUuR34qLAFmUbzrdtfTSruI6C84z8jcJs8BaLE4MQ9HozR4OL+J4OtKgRbLnheaqWXXK4ZiIAJEgAgQgewSIBGWXWJ0fbYIqM6OQqhM54xPWvHnbIU1v/gtjo2sCd47MyNFcJdNeGTdi4h5cFfPaB5iYVMvnQBkfNBle96NwLmadQpPBIgAESAC7keARJj71UmhypF+hwF+StK3qwtl0yJ19/9QQcbwdmDyqgNxIEf9h9jP2ruEnxEq59KXQCINxk9HjLfHsB8DXUEEiAARIAJEwECARJiBBR3lAgGxCGMD+jidgubBanTgtpjg7Mu8PsWYk3m1ykGLjNf3cHLNSDQOFBYacCLMxv6iTheSAhIBIkAEiECRIkAirEhVd94XVn15AurIddOR8nrRzmUg8zpmN1GCFfYn40ei8vtY3hAz7+blXKhz6CgUESACRIAIuC8BEmHuWzfunbP0rYgoxoDxbIL5D6yJEQ1SFoXDi/PlJZGh+uhzTpTpI86Mq8fvC+YW4ksv/jxaY5XFzUWdKCIFIQJEgAgQgSJJgERYkaz2HCi0IMIkjAxVBh227APsXQJGVJfzhuxsiXZYmWxNrFnLjxavDg8x2GHpBZAb/Gf8e2An2eVbqzg6TwSIABEgAg4QIBHmACS6xAIBvQjjbLSkgfhq1FZcfanftzEdT89vwMhGJSFlJGC8a+GnuCdOuHPIQPyPpdxrGlIQgNLyQ5FAdvkWGgadIgJEgAgQAUcJkAhzlBRdZ0xAnYjtY7qhcWWl4AdMAkZWDMVLl0GQv4dOfLE+qBg+DKv+c3arJjWSdk3FuLFjMdbNPuPnH8bj7A7sGROkb0SACBABIlDECZAIK+INwPXiq/H2wQX8vWMNFs6cjOjISERNmoUlG/bjXPJ78ijvOmCKgQgQASJABAopARJhhbRiqVhEgAgQASJABIiAexMgEebe9UO5IwJEgAgQASJABAopARJhhbRiqVhEgAgQASJABIiAexMgEebe9UO5KwAEVC+ScOPRxwKQU8oiESACRIAIuBMBEmHuVBuUl4JF4EMidkdFoIa/AnWjr0FdsHJPuSUCRIAIEIF8JkAiLJ8rgJIvgATUqTizbAi+DvbgHdFKJHJ8MTWRVoIWwKqkLBMBIkAE8pMAibD8pE9pWyWQ/ugCDmzfhvhrr0TiRot398/gwPYt2HU8EW/FfrpUz3E9IQ5bt+7HhScZVuN17Qctnh2fgW51AqAMbYOhE0agWRkpOBH25fQ7ony6lgqFJgJEgAgQgaJBgERY0ajnglNK9WMcjmyBch4MuL0iGa8wxFxWAxl3sHnw5wiU685LGAWqDorHa60Wr05NR4cqPmD5PSolYJVNMOdGbkwOavH6QBSGzDqGR7y3/NdY1cZDJ8JmkAgrOI2MckoEiAARcA8CJMLcox4oFxwB7RvEDw5F6Ya/YvvlW1jfNQisRIHw+f9ieac6aDx0NU7euY8z08Lhz3JiqyfWH/4DX1QLx5hN53Dn9m78FCrjRdEnEy6b2GhpkDT7WwT4+cHP0Y9/KfSxuUHka6wmEUZtlwgQASJABJwkQCLMSXAULHcIpN+/hsR3WgAZODSgNFhGjkq1wxAefQ7vhSTVVyfiM7kEEmkAStXqgKW39NOP6dgWUQyMRIbQUWeh38lSF0yD+8u7oE716qju6KdGXYyI18dtqbwkwixRoXNEgAgQASLgGAESYY5xoqvymoDmHmY2lEMiYeD37TwkiWYXMw4NRBmWE2HB6LXjuWFjcM19zGokh4QphnZrX+VBjkmE5QFkSoIIEAEiUGgJkAgrtFVbwAv2bgsi/BhIpJUwLCFNVBgN7s1qBLmEgWejmUgSG+d/2IkexVlI5PUQfV2k2kShc/aQRFjO8qTYiAARIAJFiwCJsKJV3wWmtJknhqOiVAJpxeE4wRvB67P+AbHdlGAYDzRd9MgwCgZAdXIkKnNhggfhiK1ZRH1ULv8nEeYyQoqACBABIlCECZAIK8KV775F1yBpegN+tMsvYgveiTOqOo3fqskgkdXAHxfEVl9q3Iiux4fx/X4j3ojD8McaJE5vBG+FAgpHPx5KdI9NN4vJcIJEmIEFHREBIkAEiEB2CZAIyy4xuj4PCLzBho4+YCz439I8mIOv5BIwym6I/SDKivYZljb35MM0mnXPgs8uDR6s6I66tWujtqOfOmH49ZCtITUSYaIaoEMiQASIABHIJgESYdkERpfnAYHMoxhcTgqJtDyGHDOai8S7LRHwYySQN5yJe2J7sMwEDC3PhQnBsONcGC1eXfsP92xpKFeLok3BgiYK3iVGvegbJi4xXI2cwhMBIkAEiEBhJ0AirLDXcAEsn/rmJIRxo13e7bHutbgAmTg+LARSiRTlhxyDkTzLiEf/Uiwk0rLovTURlzYPQ1jp2vgtQe/YQhyPK8cZeJv6CPdvnsfBJf1Q24tzHsvAs1Y/LD9yGXdSnuL523QLI3GupElhiQARIAJEoDASIBFWGGu1QJdJi5er26IYN9pVPwZGju81iZj2BeeCwgttV780MsqH9hX29g+BnPeaz8CzQhvEHHuW82Lo7Rq09ZDw3vw5j/6WPtwo3V3xKF2Brg/KPBEgAkSACOQWARJhuUWW4s17AqpUXImPRezB/5Br20fmfakoRSJABIgAESikBP4Pq2BF4MHsI/AAAAAASUVORK5CYII=)"
      ]
    },
    {
      "cell_type": "code",
      "metadata": {
        "id": "r65NBhz9szIB"
      },
      "source": [
        "# Plot tuning parameter on the inferred ridge regression coefficients\n",
        "𝛽μ = np.mean(𝛽, 0)\n",
        "sns.set(rc = {'figure.figsize':(15,8)})\n",
        "for i, c in enumerate(data):\n",
        "    𝛽μk = 𝛽μ[..., i]\n",
        "    sns.set_theme(style=\"whitegrid\")\n",
        "    sns.set_palette(\"mako\")\n",
        "    for j in range(1, 1 + X2):\n",
        "        sns.lineplot( x=λ, y=𝛽μk[:, j], palette='mako',   label = 'PC{}'.format(j) )\n",
        "        sns.set()\n",
        "    plt.xscale('log')\n",
        "    plt.legend(bbox_to_anchor=(1.09, 1), loc='upper left')\n",
        "    plt.xlabel('Log Lambda')\n",
        "    plt.ylabel('Coefficient Values')\n",
        "    plt.suptitle('Inferred Ridge Regression Coefficient Tuning Parameters of' + ' ' + c + ' ' + 'Class')\n",
        "    for l in range(i):\n",
        "      # Output Deliverable 1\n",
        "      plt.savefig(\"Assignment3_Deliverable1.{}.png\".format(l))\n",
        "    plt.show()\n",
        "    \n",
        "    \n",
        "   \n",
        "    "
      ],
      "execution_count": null,
      "outputs": []
    },
    {
      "cell_type": "markdown",
      "metadata": {
        "id": "EWJcVSOmMRFo"
      },
      "source": [
        "## **Deliverable 2**\n",
        "> Illustrate the effect of the tuning parameter on the cross validation error by generating a plot with the 𝑦-axis as CV(5) error, and the 𝑥-axis the corresponding log-scaled\n",
        "tuning parameter value log10(𝜆) that generated the particular CV(5) error."
      ]
    },
    {
      "cell_type": "code",
      "metadata": {
        "id": "6PwRPGwAszL8"
      },
      "source": [
        "# Compute tuning parameter on the cross validation error\n",
        "err = np.std(CV, 0) / np.sqrt(CV.shape[0])\n",
        "sns.set(rc = {'figure.figsize':(15,8)})\n",
        "sns.set_theme(style=\"whitegrid\")\n",
        "sns.set_palette(\"icefire\")\n",
        "sns.pointplot(x=λ, y=np.mean(CV, 0),yerr = err)\n",
        "sns.set()\n",
        "plt.xlabel('log10(lambda)')\n",
        "plt.ylabel('CV(5) error')\n",
        "plt.xscale('log')\n",
        "plt.yscale('log')\n",
        "plt.suptitle('Effect of the uning parameter on the cross validation error log10(lambda)')\n",
        "plt.savefig(\"Assignment3_Deliverable2.png\")\n",
        "plt.show()\n"
      ],
      "execution_count": null,
      "outputs": []
    },
    {
      "cell_type": "markdown",
      "metadata": {
        "id": "SWm1kCF3MVe4"
      },
      "source": [
        "### **Retrain model with best lambda**"
      ]
    },
    {
      "cell_type": "code",
      "metadata": {
        "id": "aV0fBl7KLYsB"
      },
      "source": [
        "# Set array of indices into the best lambda\n",
        "best_λ = λ[np.argmin(np.mean(CV, 0))]"
      ],
      "execution_count": null,
      "outputs": []
    },
    {
      "cell_type": "code",
      "metadata": {
        "id": "NfJ1_bqUiKv-"
      },
      "source": [
        "# Set standaridzed variables\n",
        "mean_x, std_x = np.mean(x, 0), np.std(x, 0)"
      ],
      "execution_count": null,
      "outputs": []
    },
    {
      "cell_type": "code",
      "metadata": {
        "id": "WlgG_iufiKzU"
      },
      "source": [
        "# Implement standarization of predictors and copy response variables\n",
        "x = standardize(x, mean_x, std_x)\n",
        "x = intercept(x)\n",
        "y = y.copy()"
      ],
      "execution_count": null,
      "outputs": []
    },
    {
      "cell_type": "code",
      "metadata": {
        "id": "CWUV7_fjiXyX"
      },
      "source": [
        "# Set zeros matrix to coef and retiran model on batch gradient decent\n",
        "𝛽x = np.zeros([X2 + 1, num_features])\n",
        "for iter in range(n_iters):\n",
        "   𝛽x = BGD(x, y, 𝛽x, best_λ)"
      ],
      "execution_count": null,
      "outputs": []
    },
    {
      "cell_type": "markdown",
      "metadata": {
        "id": "NH1tUjagJSY8"
      },
      "source": [
        "## **Deliverable 3**\n",
        "> Indicate the value of 𝜆 value that generated the smallest CV(5) error"
      ]
    },
    {
      "cell_type": "markdown",
      "metadata": {
        "id": "tqx7MbHnLBbe"
      },
      "source": [
        "**Optimal lambda**"
      ]
    },
    {
      "cell_type": "code",
      "metadata": {
        "id": "5yf3zot5szNk"
      },
      "source": [
        "# Plot lowest optimal lambda\n",
        "palette = sns.color_palette('mako')\n",
        "sns.set(rc = {'figure.figsize':(15,8)})\n",
        "sns.set_theme(style=\"whitegrid\")\n",
        "ak = Decimal(best_λ)\n",
        "plt.plot(λ)\n",
        "sns.set_palette(\"icefire\")\n",
        "sns.countplot(data=λ)\n",
        "plt.xscale('log')\n",
        "plt.yscale('log')\n",
        "plt.xlabel('log10(lambda)')\n",
        "plt.ylabel('Best Lambda')\n",
        "plt.suptitle('Lowest optimal Lamda value:= log_1e{:.1f} = {}'.format(ak.log10(), best_λ))\n",
        "print('Optimal lambda value:= {}'.format(best_λ))\n",
        "plt.savefig(\"Assignment3_Deliverable3-1.png\")"
      ],
      "execution_count": null,
      "outputs": []
    },
    {
      "cell_type": "markdown",
      "metadata": {
        "id": "jmreNd-fLH9N"
      },
      "source": [
        "**Accuracy on training classifier**"
      ]
    },
    {
      "cell_type": "code",
      "metadata": {
        "id": "r102hDRlszQN"
      },
      "source": [
        "\n",
        "#Implement Prediction function\n",
        "ŷ_p = predict(X_train)\n",
        "# Return the maximum value along a given y axis\n",
        "ŷ0 = np.argmax(ŷ_p, 1)\n",
        "# Return mean traning accuaracy \n",
        "μ = np.mean(ŷ0 == Y_train)\n",
        "sns.set(rc = {'figure.figsize':(15,8)})\n",
        "sns.set_theme(style=\"whitegrid\")\n",
        "plt.plot(ŷ0)\n",
        "sns.set_palette(\"icefire\")\n",
        "sns.boxplot(data=ŷ0 -μ**2)\n",
        "plt.xscale('log')\n",
        "plt.xlabel('log10(lambda)')\n",
        "plt.ylabel('Best Lambda')\n",
        "plt.suptitle('Classifier Training Accuracy:= {}'.format(μ))\n",
        "plt.savefig(\"Assignment3_Deliverable3-2.png\")\n",
        "# print('Classifier Training Accuracy: {}'.format(μ))"
      ],
      "execution_count": null,
      "outputs": []
    },
    {
      "cell_type": "markdown",
      "metadata": {
        "id": "MhyAwcZ1JaRE"
      },
      "source": [
        "## **Retrain model on the entire dataset for optimal 𝜆**\n",
        "> - Given the optimal 𝜆, retrain your model on the entire dataset of 𝑁 = 183 observations to obtain an estimate of the (𝑝 + 1) × 𝐾 model parameter matrix as 𝐁̂ and make predictions of the probability for each of the 𝐾 = 5 classes for the 111 test individuals located in TestData_N111_p10.csv.\n",
        "- Add probability predictions to the test dataframe"
      ]
    },
    {
      "cell_type": "code",
      "metadata": {
        "id": "HclnGqLLtSIv"
      },
      "source": [
        "# Create new test predicotr and response variables ŷ\n",
        "ŷ_test = predict(X_test)\n",
        "Y_class = np.argmax(ŷ_test, 1)"
      ],
      "execution_count": null,
      "outputs": []
    },
    {
      "cell_type": "code",
      "metadata": {
        "id": "p91bUzNGtSLo"
      },
      "source": [
        "# Re-lable feature headers and add new class prediction index column\n",
        "new_colNames = ['{}_Probability'.format(c_name) for c_name in data] + ['ClassPredInd']"
      ],
      "execution_count": null,
      "outputs": []
    },
    {
      "cell_type": "code",
      "metadata": {
        "id": "EgRooLLOa5ND"
      },
      "source": [
        "# Implemnt index array of probabilities\n",
        "i_prob = np.concatenate((ŷ_test, Y_class[:, None]), 1)"
      ],
      "execution_count": null,
      "outputs": []
    },
    {
      "cell_type": "code",
      "metadata": {
        "id": "bXKM1sq3a5Tz"
      },
      "source": [
        "# Create New dataframe for probality indeces\n",
        "df2 = pd.DataFrame(i_prob, columns = new_colNames)"
      ],
      "execution_count": null,
      "outputs": []
    },
    {
      "cell_type": "code",
      "metadata": {
        "id": "vmOC5lzva5b8"
      },
      "source": [
        "# Concat dependant Ancestory features to dataframe\n",
        "dep_preds = pd.concat([test_df['Ancestry'], df2], axis = 1)"
      ],
      "execution_count": null,
      "outputs": []
    },
    {
      "cell_type": "code",
      "metadata": {
        "id": "eJCqam2ma5rt"
      },
      "source": [
        "# Add new \n",
        "dep_preds['ClassPredName'] = dep_preds['ClassPredInd'].apply(lambda x: data[int(x)])"
      ],
      "execution_count": null,
      "outputs": []
    },
    {
      "cell_type": "code",
      "metadata": {
        "id": "kmgNvCu0bqAS"
      },
      "source": [
        "# Validate Probability predictions dataframe\n",
        "dep_preds.head()"
      ],
      "execution_count": null,
      "outputs": []
    },
    {
      "cell_type": "code",
      "metadata": {
        "id": "WGlG4gPAtSRS"
      },
      "source": [
        "# Slice prediction and set new feature vector column variable\n",
        "prob_1 = dep_preds.loc[:, 'Ancestry':'NativeAmerican_Probability']"
      ],
      "execution_count": null,
      "outputs": []
    },
    {
      "cell_type": "code",
      "metadata": {
        "id": "QgjmSl35cbSC"
      },
      "source": [
        "# Unpivot convert dataFrame to long format\n",
        "prob_2 = pd.melt(prob_1, id_vars = ['Ancestry'], var_name = 'Ancestry_Predictions', value_name = 'Probability')"
      ],
      "execution_count": null,
      "outputs": []
    },
    {
      "cell_type": "code",
      "metadata": {
        "id": "wAMUEHt_cbYy"
      },
      "source": [
        "# Test for true probability\n",
        "prob_2['Ancestry_Predictions'] = prob_2['Ancestry_Predictions'].apply(lambda x: x.split('Prob')[0])"
      ],
      "execution_count": null,
      "outputs": []
    },
    {
      "cell_type": "code",
      "metadata": {
        "id": "CUUeydoueM2o"
      },
      "source": [
        "# Validate dataframe\n",
        "prob_2.head(5)"
      ],
      "execution_count": null,
      "outputs": []
    },
    {
      "cell_type": "code",
      "metadata": {
        "id": "e3rZusP4gskD"
      },
      "source": [
        "# Validate dataframe features\n",
        "print('Describe Columns:=', prob_2.columns, '\\n')\n",
        "print('Data Index values:=', prob_2.index, '\\n')\n",
        "print('Describe data:=', prob_2.describe(), '\\n')"
      ],
      "execution_count": null,
      "outputs": []
    },
    {
      "cell_type": "markdown",
      "metadata": {
        "id": "Uf5QcIk2_ulh"
      },
      "source": [
        "## **Deliverable 4**\n",
        ">  Given the optimal 𝜆, retrain your model on the entire dataset of 𝑁 = 183 observations to obtain an estimate of the (𝑝 + 1) × 𝐾 model parameter matrix as 𝐁̂ and make predictions of the probability for each of the 𝐾 = 5 classes for the 111 test individuals located in TestData_N111_p10.csv. \n",
        "\n",
        "![image.png](data:image/png;base64,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)"
      ]
    },
    {
      "cell_type": "code",
      "metadata": {
        "id": "2h6fTkjutfeB"
      },
      "source": [
        "# Plot Probality prediction matrix\n",
        "sns.set(rc = {'figure.figsize':(15,8)})\n",
        "sns.set_theme(style=\"whitegrid\")\n",
        "fig, ax = plt.subplots()\n",
        "sns.barplot(data = prob_2[prob_2['Ancestry'] != 'Unknown'],color = 'r', x = 'Ancestry', y = 'Probability', hue = 'Ancestry_Predictions', palette = 'mako')\n",
        "plt.xlabel('Ancestory Classes')\n",
        "plt.ylabel('Probability')\n",
        "plt.suptitle('Probabilty of Ancestor classes')\n",
        "plt.savefig(\"Assignment3_Deliverable4.png\")\n",
        "plt.show()"
      ],
      "execution_count": null,
      "outputs": []
    },
    {
      "cell_type": "markdown",
      "metadata": {
        "id": "NrTsyQ9OI5yH"
      },
      "source": [
        "## **Deliverable 5**\n",
        "**How do the class label probabilities differ for the Mexican and African American samples when compared to the class label probabilities for the unknown samples?**\n",
        "\n",
        "> In comparison to the class label probabilities for the unknown samples, those with unknown ancestry show a probability close to or equal to one while the other classes show a probability close to zero or less than one. African American samples showed similar results. The model assigned high probabilities to the African ancestry class for each of these samples. However, both Native American and European ancestry contribute high probabilities to the Mexican population on average with Native American slightly higher than European. "
      ]
    }
  ]
}